{
 "cells": [
  {
   "cell_type": "code",
   "execution_count": 29,
   "metadata": {},
   "outputs": [],
   "source": [
    "# Importing necessary libraries for data manipulation and visualization\n",
    "import pandas as pd\n",
    "import matplotlib.pyplot as plt\n",
    "import numpy as np"
   ]
  },
  {
   "cell_type": "code",
   "execution_count": 30,
   "metadata": {},
   "outputs": [],
   "source": [
    "# Read CVS and create DataFrame\n",
    "data_csv = pd.read_csv(\"../data/flights.csv\")\n",
    "df = pd.DataFrame(data_csv).set_index(\"id\")"
   ]
  },
  {
   "cell_type": "code",
   "execution_count": null,
   "metadata": {},
   "outputs": [],
   "source": [
    "# Create a dictionary that describes the columns in the DataFrame\n",
    "columns_legend = {\n",
    "    \"id\": \"Unique identifier for each flight record\",\n",
    "    \"year\": \"Year the flight was recorded (Gregorian calendar)\",\n",
    "    \"month\": \"Numerical value of the month the flight occurred (1-12)\",\n",
    "    \"day\": \"Day of the month when the flight occurred (1-31)\",\n",
    "    \"dep_time\": \"Actual departure time (24-hour format, hhmm)\",\n",
    "    \"sched_dep_time\": \"Scheduled departure time (24-hour format, hhmm)\",\n",
    "    \"dep_delay\": \"Minutes difference between scheduled and actual departure (positive for delay, negative for early departure)\",\n",
    "    \"arr_time\": \"Actual arrival time (24-hour format, hhmm)\",\n",
    "    \"sched_arr_time\": \"Scheduled arrival time (24-hour format, hhmm)\",\n",
    "    \"arr_delay\": \"Minutes difference between scheduled and actual arrival (positive for delay, negative for early arrival)\",\n",
    "    \"carrier\": \"Two-letter airline carrier code (e.g., AA for American Airlines)\",\n",
    "    \"flight\": \"Flight number assigned to the flight\",\n",
    "    \"tailnum\": \"Unique aircraft tail number\",\n",
    "    \"origin\": \"Three-letter code of the departure airport\",\n",
    "    \"dest\": \"Three-letter code of the destination airport\",\n",
    "    \"air_time\": \"Total time in the air, in minutes (excludes ground time)\",\n",
    "    \"distance\": \"Distance traveled from origin to destination, in miles\",\n",
    "    \"hour\": \"Hour of scheduled departure time (24-hour format)\",\n",
    "    \"minute\": \"Minute of scheduled departure time\",\n",
    "    \"time_hour\": \"Full timestamp for scheduled departure (yyyy-mm-dd hh:mm:ss, 24-hour format)\",\n",
    "    \"name\": \"Full name of the airline carrier\",\n",
    "}\n",
    "\n",
    "# Display legend as DataFrame\n",
    "df_cl = pd.DataFrame(\n",
    "    list(columns_legend.items()), columns=[\"Column Name\", \"Description\"]\n",
    ")\n",
    "df_cl = df_cl.style.set_properties(**{\"text-align\": \"left\"})\n",
    "df_cl  # Display the colum legend DataFrame"
   ]
  },
  {
   "cell_type": "code",
   "execution_count": 32,
   "metadata": {},
   "outputs": [],
   "source": [
    "# Give columns_legend to the DataFrame as attributes\n",
    "df.attrs = columns_legend"
   ]
  },
  {
   "cell_type": "markdown",
   "metadata": {},
   "source": [
    "## DataFrame Exploration\n",
    "\n",
    "- Summarize & Visualize Data\n",
    "- Identify Patterns\n",
    "- Find Relationships\n",
    "- Note Potential Anomalies\n",
    "\n",
    "## Exploration Scope\n",
    "\n",
    "We want to know two things:\n",
    "\n",
    "- What causes flight delays\n",
    "- How can we better predict delays\n"
   ]
  },
  {
   "cell_type": "code",
   "execution_count": null,
   "metadata": {},
   "outputs": [],
   "source": [
    "# Examine DataFrame attributes and structure\n",
    "df.attrs  # Display the column legents attached to the DataFrame"
   ]
  },
  {
   "cell_type": "code",
   "execution_count": null,
   "metadata": {},
   "outputs": [],
   "source": [
    "# Provide a summary of the DataFrame, including data tyoes and non-null counts\n",
    "df.info()"
   ]
  },
  {
   "cell_type": "markdown",
   "metadata": {},
   "source": [
    "### Insights from df.info()\n",
    "\n",
    "Right away we can see that these columns have missing data.\n",
    "This was most likely cause by canceled flights, error in data entry, or a just a simple reporting issue\n",
    "\n",
    "### Follow up Query\n",
    "\n",
    "What (if any) patterns are there in the missing data? Such as certain airline, specific times of year, weather patterns, ect.\n"
   ]
  },
  {
   "cell_type": "code",
   "execution_count": null,
   "metadata": {},
   "outputs": [],
   "source": [
    "# Check for null values in the DataFrame and display the count\n",
    "df.isnull().sum()"
   ]
  },
  {
   "cell_type": "code",
   "execution_count": 36,
   "metadata": {},
   "outputs": [],
   "source": [
    "# Drop rows with any null values\n",
    "df = df.dropna(how=\"any\")"
   ]
  },
  {
   "cell_type": "code",
   "execution_count": null,
   "metadata": {},
   "outputs": [],
   "source": [
    "# Verify that there are no more null values\n",
    "df.isnull().sum()"
   ]
  },
  {
   "cell_type": "code",
   "execution_count": null,
   "metadata": {},
   "outputs": [],
   "source": [
    "# Display a random sample of 5 rows from the DataFrame\n",
    "df.sample(n=5)"
   ]
  },
  {
   "cell_type": "code",
   "execution_count": 39,
   "metadata": {},
   "outputs": [],
   "source": [
    "# Convert departure time to integer and then to a string with zero-padding\n",
    "df.dep_time = df.dep_time.astype(int)  # Convert to int\n",
    "df.dep_time = df.dep_time.astype(str).str.zfill(4)  # Pad with zeros\n",
    "df.sched_dep_time = df.sched_dep_time.astype(str).str.zfill(\n",
    "    4\n",
    ")  # Same for scheduled departure time\n",
    "\n",
    "# Convert the string representation of time to datetime format and format it as HH:MM:SS\n",
    "df.dep_time = pd.to_datetime(df.dep_time, format=\"%H%M%S\").dt.strftime(\"%H:%M:%S\")\n",
    "df.sched_dep_time = pd.to_datetime(df.sched_dep_time, format=\"%H%M%S\").dt.strftime(\n",
    "    \"%H:%M:%S\"\n",
    ")"
   ]
  },
  {
   "cell_type": "code",
   "execution_count": null,
   "metadata": {},
   "outputs": [],
   "source": [
    "# Display a random sample of 5 rows for the updated departure times\n",
    "df[[\"dep_time\", \"sched_dep_time\"]].sample(n=5)"
   ]
  },
  {
   "cell_type": "code",
   "execution_count": null,
   "metadata": {},
   "outputs": [],
   "source": [
    "# Select every 15000th entry for both scheduled and actual departure times\n",
    "x = df.sched_dep_time[::15000]\n",
    "y = df.dep_time[::15000]\n",
    "\n",
    "# Set plot title and labels for the first plot\n",
    "plt.title = \"Departure Discrepancies\"\n",
    "plt.xlabel = \"Departure Time\"\n",
    "plt.ylabel = \"Scheduled Departure Time\"\n",
    "\n",
    "# Create the first plot with specified figure size and layout\n",
    "plt.figure(figsize=(18, 12)).tight_layout()\n",
    "plt.plot(x, y)\n",
    "\n",
    "# Show the plot\n",
    "plt.show()"
   ]
  },
  {
   "cell_type": "code",
   "execution_count": null,
   "metadata": {},
   "outputs": [],
   "source": [
    "# Select every 1500th entry for a more detailed view\n",
    "y1 = df.dep_time[::1500]\n",
    "y2 = df.sched_dep_time[::1500]\n",
    "\n",
    "# Create a new figure for the second plot with dual y-axes\n",
    "fig, ax1 = plt.subplots()\n",
    "\n",
    "# Plot the scheduled departure time on the first y-axis\n",
    "ax1.plot(y1, color=\"purple\")\n",
    "ax1.set_xlabel(\"Scheduled Departure Time\")\n",
    "ax1.tick_params(axis=\"y\", labelcolor=\"#89d728\")\n",
    "ax1.set_yticks(range(0, 24))  # Set y-ticks to hours of the day\n",
    "ax1.set_ylabel(\"Hour of day\")\n",
    "\n",
    "# Create a twin y-axis for the actual departure time\n",
    "ax2 = ax1.twin()\n",
    "ax2.plot(y2, color=\"pink\", label=\"Departure Time\")\n",
    "ax2.tick_params(axis=\"y\", labelcolor=\"#89d728\")\n",
    "\n",
    "# Adjust layout for the second plot\n",
    "fig.tight_layout()\n",
    "\n",
    "# Show the second plot\n",
    "plt.show()"
   ]
  },
  {
   "cell_type": "code",
   "execution_count": null,
   "metadata": {},
   "outputs": [],
   "source": []
  }
 ],
 "metadata": {
  "kernelspec": {
   "display_name": "Python 3",
   "language": "python",
   "name": "python3"
  },
  "language_info": {
   "codemirror_mode": {
    "name": "ipython",
    "version": 3
   },
   "file_extension": ".py",
   "mimetype": "text/x-python",
   "name": "python",
   "nbconvert_exporter": "python",
   "pygments_lexer": "ipython3",
   "version": "3.10.14"
  }
 },
 "nbformat": 4,
 "nbformat_minor": 2
}

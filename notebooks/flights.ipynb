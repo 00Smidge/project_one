{
 "cells": [
  {
   "cell_type": "code",
   "execution_count": 29,
   "metadata": {},
   "outputs": [],
   "source": [
    "import pandas as pd\n",
    "import matplotlib.pyplot as plt\n",
    "import numpy as np"
   ]
  },
  {
   "cell_type": "code",
   "execution_count": 30,
   "metadata": {},
   "outputs": [],
   "source": [
    "data_csv = pd.read_csv(\"../data/flights.csv\")\n",
    "df = pd.DataFrame(data_csv).set_index(\"id\")"
   ]
  },
  {
   "cell_type": "code",
   "execution_count": null,
   "metadata": {},
   "outputs": [],
   "source": [
    "columns_legend = {\n",
    "    \"id\": \"Unique identifier for each flight record\",\n",
    "    \"year\": \"Year the flight was recorded (Gregorian calendar)\",\n",
    "    \"month\": \"Numerical value of the month the flight occurred (1-12)\",\n",
    "    \"day\": \"Day of the month when the flight occurred (1-31)\",\n",
    "    \"dep_time\": \"Actual departure time (24-hour format, hhmm)\",\n",
    "    \"sched_dep_time\": \"Scheduled departure time (24-hour format, hhmm)\",\n",
    "    \"dep_delay\": \"Minutes difference between scheduled and actual departure (positive for delay, negative for early departure)\",\n",
    "    \"arr_time\": \"Actual arrival time (24-hour format, hhmm)\",\n",
    "    \"sched_arr_time\": \"Scheduled arrival time (24-hour format, hhmm)\",\n",
    "    \"arr_delay\": \"Minutes difference between scheduled and actual arrival (positive for delay, negative for early arrival)\",\n",
    "    \"carrier\": \"Two-letter airline carrier code (e.g., AA for American Airlines)\",\n",
    "    \"flight\": \"Flight number assigned to the flight\",\n",
    "    \"tailnum\": \"Unique aircraft tail number\",\n",
    "    \"origin\": \"Three-letter code of the departure airport\",\n",
    "    \"dest\": \"Three-letter code of the destination airport\",\n",
    "    \"air_time\": \"Total time in the air, in minutes (excludes ground time)\",\n",
    "    \"distance\": \"Distance traveled from origin to destination, in miles\",\n",
    "    \"hour\": \"Hour of scheduled departure time (24-hour format)\",\n",
    "    \"minute\": \"Minute of scheduled departure time\",\n",
    "    \"time_hour\": \"Full timestamp for scheduled departure (yyyy-mm-dd hh:mm:ss, 24-hour format)\",\n",
    "    \"name\": \"Full name of the airline carrier\",\n",
    "}\n",
    "\n",
    "df_cl = pd.DataFrame(\n",
    "    list(columns_legend.items()), columns=[\"Column Name\", \"Description\"]\n",
    ")\n",
    "df_cl = df_cl.style.set_properties(**{\"text-align\": \"left\"})\n",
    "df_cl  "
   ]
  },
  {
   "cell_type": "code",
   "execution_count": 32,
   "metadata": {},
   "outputs": [],
   "source": [
    "df.attrs = columns_legend"
   ]
  },
  {
   "cell_type": "markdown",
   "metadata": {},
   "source": [
    "## DataFrame Exploration\n",
    "\n",
    "- Summarize & Visualize Data\n",
    "- Identify Patterns\n",
    "- Find Relationships\n",
    "- Note Potential Anomalies\n",
    "\n",
    "## Exploration Scope\n",
    "\n",
    "We want to know two things:\n",
    "\n",
    "- What causes flight delays\n",
    "- How can we better predict delays\n"
   ]
  },
  {
   "cell_type": "code",
   "execution_count": null,
   "metadata": {},
   "outputs": [],
   "source": [
    "df.attrs  "
   ]
  },
  {
   "cell_type": "code",
   "execution_count": null,
   "metadata": {},
   "outputs": [],
   "source": [
    "df.info()"
   ]
  },
  {
   "cell_type": "markdown",
   "metadata": {},
   "source": [
    "### Insights from df.info()\n",
    "\n",
    "Right away we can see that these columns have missing data.\n",
    "This was most likely cause by canceled flights, error in data entry, or a just a simple reporting issue\n",
    "\n",
    "### Follow up Query\n",
    "\n",
    "What (if any) patterns are there in the missing data? Such as certain airline, specific times of year, weather patterns, ect.\n"
   ]
  },
  {
   "cell_type": "code",
   "execution_count": null,
   "metadata": {},
   "outputs": [],
   "source": [
    "df.isnull().sum()"
   ]
  },
  {
   "cell_type": "code",
   "execution_count": 36,
   "metadata": {},
   "outputs": [],
   "source": [
    "df = df.dropna(how=\"any\")"
   ]
  },
  {
   "cell_type": "code",
   "execution_count": null,
   "metadata": {},
   "outputs": [],
   "source": [
    "df.isnull().sum()"
   ]
  },
  {
   "cell_type": "code",
   "execution_count": null,
   "metadata": {},
   "outputs": [],
   "source": [
    "df.sample(n=5)"
   ]
  },
  {
   "cell_type": "code",
   "execution_count": 39,
   "metadata": {},
   "outputs": [],
   "source": [
    "df.dep_time = df.dep_time.astype(int) \n",
    "df.dep_time = df.dep_time.astype(str).str.zfill(4)  \n",
    "df.sched_dep_time = df.sched_dep_time.astype(str).str.zfill(\n",
    "    4\n",
    ") \n",
    "\n",
    "# Convert the string representation of time to datetime format and format it as HH:MM:SS\n",
    "df.dep_time = pd.to_datetime(df.dep_time, format=\"%H%M%S\").dt.strftime(\"%H:%M:%S\")\n",
    "df.sched_dep_time = pd.to_datetime(df.sched_dep_time, format=\"%H%M%S\").dt.strftime(\n",
    "    \"%H:%M:%S\"\n",
    ")"
   ]
  },
  {
   "cell_type": "code",
   "execution_count": null,
   "metadata": {},
   "outputs": [],
   "source": [
    "df[[\"dep_time\", \"sched_dep_time\"]].sample(n=5)"
   ]
  },
  {
   "cell_type": "code",
   "execution_count": null,
   "metadata": {},
   "outputs": [],
   "source": [
    "x = df.sched_dep_time[::15000]\n",
    "y = df.dep_time[::15000]\n",
    "\n",
    "plt.title = \"Departure Discrepancies\"\n",
    "plt.xlabel = \"Departure Time\"\n",
    "plt.ylabel = \"Scheduled Departure Time\"\n",
    "\n",
    "plt.figure(figsize=(18, 12)).tight_layout()\n",
    "plt.plot(x, y)\n",
    "\n",
    "plt.show()"
   ]
  },
  {
   "cell_type": "code",
   "execution_count": null,
   "metadata": {},
   "outputs": [],
   "source": [
    "y1 = df.dep_time[::1500]\n",
    "y2 = df.sched_dep_time[::1500]\n",
    "\n",
    "fig, ax1 = plt.subplots()\n",
    "\n",
    "ax1.plot(y1, color=\"purple\")\n",
    "ax1.set_xlabel(\"Scheduled Departure Time\")\n",
    "ax1.tick_params(axis=\"y\", labelcolor=\"#89d728\")\n",
    "ax1.set_yticks(range(0, 24))  \n",
    "ax1.set_ylabel(\"Hour of day\")\n",
    "\n",
    "ax2 = ax1.twin()\n",
    "ax2.plot(y2, color=\"pink\", label=\"Departure Time\")\n",
    "ax2.tick_params(axis=\"y\", labelcolor=\"#89d728\")\n",
    "\n",
    "fig.tight_layout()\n",
    "\n",
    "plt.show()"
   ]
  },
  {
   "cell_type": "code",
   "execution_count": null,
   "metadata": {},
   "outputs": [],
   "source": []
  }
 ],
 "metadata": {
  "kernelspec": {
   "display_name": "Python 3",
   "language": "python",
   "name": "python3"
  },
  "language_info": {
   "codemirror_mode": {
    "name": "ipython",
    "version": 3
   },
   "file_extension": ".py",
   "mimetype": "text/x-python",
   "name": "python",
   "nbconvert_exporter": "python",
   "pygments_lexer": "ipython3",
   "version": "3.10.14"
  }
 },
 "nbformat": 4,
 "nbformat_minor": 2
}

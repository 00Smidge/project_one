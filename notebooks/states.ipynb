{
 "cells": [
  {
   "cell_type": "code",
   "execution_count": 17,
   "metadata": {},
   "outputs": [],
   "source": [
    "# Importing necessary libraries for data manipulation and visualization\n",
    "import sys\n",
    "import os\n",
    "\n",
    "import pandas as pd\n",
    "import matplotlib.pyplot as plt\n",
    "import numpy as np\n",
    "import folium"
   ]
  },
  {
   "cell_type": "code",
   "execution_count": 18,
   "metadata": {},
   "outputs": [
    {
     "name": "stdout",
     "output_type": "stream",
     "text": [
      "Using CSV file at: ../data/flight_states.csv\n"
     ]
    }
   ],
   "source": [
    "import os\n",
    "import pandas as pd\n",
    "\n",
    "# Example condition: only generate the path if the file does not already exist\n",
    "if not os.path.exists(\"../data/flight_states.csv\"):\n",
    "    current_dir = os.path.dirname(os.path.abspath(__file__))\n",
    "    flights_csv_path = os.path.join(current_dir, \"../data/flight_states.csv\")\n",
    "else:\n",
    "    flights_csv_path = \"../data/flight_states.csv\"  # Use the relative path directly\n",
    "\n",
    "# Print the path to debug (optional)\n",
    "print(f\"Using CSV file at: {flights_csv_path}\")\n",
    "\n",
    "# Check if the file exists and then read it\n",
    "if os.path.exists(flights_csv_path):\n",
    "    data_csv = pd.read_csv(flights_csv_path)\n",
    "    f_sts_df = pd.DataFrame(data_csv)\n",
    "else:\n",
    "    raise FileNotFoundError(f\"CSV file not found: {flights_csv_path}\")"
   ]
  },
  {
   "cell_type": "code",
   "execution_count": 19,
   "metadata": {},
   "outputs": [],
   "source": [
    "if (\n",
    "    \"sensors\" in f_sts_df.columns\n",
    "    or \"position_source\" in f_sts_df.columns\n",
    "    or \"spi\" in f_sts_df.columns\n",
    "):\n",
    "    f_sts_df = f_sts_df.drop(\"sensors\", axis=1)\n",
    "    f_sts_df = f_sts_df.drop(\"position_source\", axis=1)\n",
    "    f_sts_df = f_sts_df.drop(\"spi\", axis=1)\n",
    "else:\n",
    "    pass"
   ]
  },
  {
   "cell_type": "code",
   "execution_count": 20,
   "metadata": {},
   "outputs": [],
   "source": [
    "f_sts_df = f_sts_df[f_sts_df.category > 0]"
   ]
  },
  {
   "cell_type": "code",
   "execution_count": 21,
   "metadata": {},
   "outputs": [],
   "source": [
    "def get_us_flights():\n",
    "    US_flights = pd.DataFrame(f_sts_df[f_sts_df.origin_country == \"United States\"])\n",
    "    US_flights = US_flights.dropna(how=\"any\")\n",
    "    return US_flights"
   ]
  },
  {
   "cell_type": "code",
   "execution_count": 22,
   "metadata": {},
   "outputs": [],
   "source": [
    "def get_craft_flights():\n",
    "    icao24_craft = pd.DataFrame(f_sts_df[f_sts_df.icao24 == \"adc9b6\"])\n",
    "    icao24_craft = icao24_craft.dropna(how=\"any\")\n",
    "    return icao24_craft"
   ]
  },
  {
   "cell_type": "code",
   "execution_count": null,
   "metadata": {},
   "outputs": [],
   "source": []
  }
 ],
 "metadata": {
  "kernelspec": {
   "display_name": "Python 3",
   "language": "python",
   "name": "python3"
  },
  "language_info": {
   "codemirror_mode": {
    "name": "ipython",
    "version": 3
   },
   "file_extension": ".py",
   "mimetype": "text/x-python",
   "name": "python",
   "nbconvert_exporter": "python",
   "pygments_lexer": "ipython3",
   "version": "3.12.4"
  }
 },
 "nbformat": 4,
 "nbformat_minor": 2
}

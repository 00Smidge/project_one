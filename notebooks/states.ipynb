{
 "cells": [
  {
   "cell_type": "code",
   "execution_count": 40,
   "metadata": {},
   "outputs": [],
   "source": [
    "# Importing necessary libraries for data manipulation and visualization\n",
    "import sys\n",
    "import os\n",
    "\n",
    "import pandas as pd\n",
    "import matplotlib.pyplot as plt\n",
    "import numpy as np\n",
    "import folium"
   ]
  },
  {
   "cell_type": "code",
   "execution_count": 41,
   "metadata": {},
   "outputs": [],
   "source": [
    "current_dir = os.path.dirname(os.path.abspath(__file__))\n",
    "\n",
    "flights_csv_path = os.path.join(current_dir, \"../data/flight_states.csv\")\n",
    "\n",
    "if os.path.exists(flights_csv_path):\n",
    "    data_csv = pd.read_csv(flights_csv_path)\n",
    "    f_sts_df = pd.DataFrame(data_csv)\n",
    "else:\n",
    "    raise FileNotFoundError(f\"CSV file not found: {flights_csv_path}\")"
   ]
  },
  {
   "cell_type": "code",
   "execution_count": 43,
   "metadata": {},
   "outputs": [
    {
     "data": {
      "text/plain": [
       "icao24                  0\n",
       "callsign              757\n",
       "origin_country          0\n",
       "time_position         386\n",
       "last_contact            0\n",
       "last_contact_utc        0\n",
       "longitude             386\n",
       "latitude              386\n",
       "geo_altitude         4244\n",
       "on_ground               0\n",
       "velocity               15\n",
       "true_track              0\n",
       "vertical_rate        3807\n",
       "sensors             46857\n",
       "baro_altitude        4000\n",
       "squawk              21774\n",
       "spi                     0\n",
       "position_source         0\n",
       "category                0\n",
       "dtype: int64"
      ]
     },
     "execution_count": 43,
     "metadata": {},
     "output_type": "execute_result"
    }
   ],
   "source": [
    "f_sts_df.isna().sum()"
   ]
  },
  {
   "cell_type": "code",
   "execution_count": 44,
   "metadata": {},
   "outputs": [],
   "source": [
    "if (\n",
    "    \"sensors\" in f_sts_df.columns\n",
    "    or \"position_source\" in f_sts_df.columns\n",
    "    or \"spi\" in f_sts_df.columns\n",
    "):\n",
    "    f_sts_df = f_sts_df.drop(\"sensors\", axis=1)\n",
    "    f_sts_df = f_sts_df.drop(\"position_source\", axis=1)\n",
    "    f_sts_df = f_sts_df.drop(\"spi\", axis=1)\n",
    "else:\n",
    "    pass"
   ]
  },
  {
   "cell_type": "code",
   "execution_count": 45,
   "metadata": {},
   "outputs": [],
   "source": [
    "f_sts_df = f_sts_df[f_sts_df.category > 0]"
   ]
  },
  {
   "cell_type": "code",
   "execution_count": 46,
   "metadata": {},
   "outputs": [
    {
     "data": {
      "text/plain": [
       "origin_country\n",
       "United States                 1750\n",
       "Australia                      158\n",
       "Germany                         97\n",
       "Spain                           91\n",
       "Austria                         89\n",
       "United Kingdom                  88\n",
       "France                          82\n",
       "China                           74\n",
       "Kingdom of the Netherlands      67\n",
       "Ireland                         66\n",
       "Belgium                         64\n",
       "Canada                          60\n",
       "Switzerland                     52\n",
       "Turkey                          45\n",
       "Republic of Korea               34\n",
       "United Arab Emirates            29\n",
       "Luxembourg                      27\n",
       "Taiwan                          25\n",
       "Qatar                           20\n",
       "Denmark                         15\n",
       "Estonia                         14\n",
       "Portugal                        10\n",
       "Israel                           9\n",
       "Saudi Arabia                     9\n",
       "Mexico                           9\n",
       "Morocco                          9\n",
       "Poland                           8\n",
       "Egypt                            7\n",
       "Chile                            7\n",
       "Latvia                           7\n",
       "Hungary                          7\n",
       "India                            7\n",
       "New Zealand                      6\n",
       "Bulgaria                         6\n",
       "Finland                          5\n",
       "Algeria                          4\n",
       "Italy                            4\n",
       "Nepal                            4\n",
       "Ethiopia                         4\n",
       "Kuwait                           3\n",
       "Malaysia                         3\n",
       "Norway                           3\n",
       "Japan                            3\n",
       "Philippines                      3\n",
       "Indonesia                        2\n",
       "Sweden                           2\n",
       "Malta                            2\n",
       "Czech Republic                   2\n",
       "Singapore                        1\n",
       "Argentina                        1\n",
       "Belarus                          1\n",
       "South Africa                     1\n",
       "Slovakia                         1\n",
       "Greece                           1\n",
       "Brazil                           1\n",
       "Name: count, dtype: int64"
      ]
     },
     "execution_count": 46,
     "metadata": {},
     "output_type": "execute_result"
    }
   ],
   "source": [
    "f_sts_df.origin_country.value_counts()"
   ]
  },
  {
   "cell_type": "code",
   "execution_count": 47,
   "metadata": {},
   "outputs": [
    {
     "data": {
      "text/plain": [
       "callsign\n",
       "            15\n",
       "HBAL712      5\n",
       "PAT239       4\n",
       "AAL1632      4\n",
       "JBU377       4\n",
       "            ..\n",
       "LXJ413       1\n",
       "JIA5189      1\n",
       "N6026Z       1\n",
       "GFD5         1\n",
       "SWR282       1\n",
       "Name: count, Length: 2465, dtype: int64"
      ]
     },
     "execution_count": 47,
     "metadata": {},
     "output_type": "execute_result"
    }
   ],
   "source": [
    "f_sts_df.callsign.value_counts()"
   ]
  },
  {
   "cell_type": "code",
   "execution_count": 48,
   "metadata": {},
   "outputs": [
    {
     "data": {
      "text/plain": [
       "icao24\n",
       "adc9b6    5\n",
       "a01fee    5\n",
       "45d064    5\n",
       "ab2b23    5\n",
       "adcd6d    5\n",
       "         ..\n",
       "a6c5dc    1\n",
       "adfd6f    1\n",
       "a05467    1\n",
       "ac31a1    1\n",
       "abc0c1    1\n",
       "Name: count, Length: 1688, dtype: int64"
      ]
     },
     "execution_count": 48,
     "metadata": {},
     "output_type": "execute_result"
    }
   ],
   "source": [
    "f_sts_df.icao24.value_counts()"
   ]
  },
  {
   "cell_type": "code",
   "execution_count": 49,
   "metadata": {},
   "outputs": [
    {
     "data": {
      "text/html": [
       "<div>\n",
       "<style scoped>\n",
       "    .dataframe tbody tr th:only-of-type {\n",
       "        vertical-align: middle;\n",
       "    }\n",
       "\n",
       "    .dataframe tbody tr th {\n",
       "        vertical-align: top;\n",
       "    }\n",
       "\n",
       "    .dataframe thead th {\n",
       "        text-align: right;\n",
       "    }\n",
       "</style>\n",
       "<table border=\"1\" class=\"dataframe\">\n",
       "  <thead>\n",
       "    <tr style=\"text-align: right;\">\n",
       "      <th></th>\n",
       "      <th>icao24</th>\n",
       "      <th>callsign</th>\n",
       "      <th>origin_country</th>\n",
       "      <th>time_position</th>\n",
       "      <th>last_contact</th>\n",
       "      <th>last_contact_utc</th>\n",
       "      <th>longitude</th>\n",
       "      <th>latitude</th>\n",
       "      <th>geo_altitude</th>\n",
       "      <th>on_ground</th>\n",
       "      <th>velocity</th>\n",
       "      <th>true_track</th>\n",
       "      <th>vertical_rate</th>\n",
       "      <th>baro_altitude</th>\n",
       "      <th>squawk</th>\n",
       "      <th>category</th>\n",
       "    </tr>\n",
       "  </thead>\n",
       "  <tbody>\n",
       "    <tr>\n",
       "      <th>25946</th>\n",
       "      <td>a2b8e2</td>\n",
       "      <td>N27481</td>\n",
       "      <td>United States</td>\n",
       "      <td>1.728602e+09</td>\n",
       "      <td>1728601902</td>\n",
       "      <td>2024-10-10 23:11:42+00:00</td>\n",
       "      <td>-97.9769</td>\n",
       "      <td>43.6861</td>\n",
       "      <td>601.98</td>\n",
       "      <td>False</td>\n",
       "      <td>59.82</td>\n",
       "      <td>176.05</td>\n",
       "      <td>-2.28</td>\n",
       "      <td>548.64</td>\n",
       "      <td>NaN</td>\n",
       "      <td>3</td>\n",
       "    </tr>\n",
       "    <tr>\n",
       "      <th>29619</th>\n",
       "      <td>aa7238</td>\n",
       "      <td>UAL1222</td>\n",
       "      <td>United States</td>\n",
       "      <td>1.728612e+09</td>\n",
       "      <td>1728611973</td>\n",
       "      <td>2024-10-11 01:59:33+00:00</td>\n",
       "      <td>-103.6842</td>\n",
       "      <td>38.9526</td>\n",
       "      <td>7726.68</td>\n",
       "      <td>False</td>\n",
       "      <td>205.45</td>\n",
       "      <td>311.96</td>\n",
       "      <td>-9.10</td>\n",
       "      <td>7353.30</td>\n",
       "      <td>3663.0</td>\n",
       "      <td>1</td>\n",
       "    </tr>\n",
       "    <tr>\n",
       "      <th>21314</th>\n",
       "      <td>abe579</td>\n",
       "      <td>DAL1068</td>\n",
       "      <td>United States</td>\n",
       "      <td>1.728602e+09</td>\n",
       "      <td>1728601911</td>\n",
       "      <td>2024-10-10 23:11:51+00:00</td>\n",
       "      <td>-111.8061</td>\n",
       "      <td>40.2256</td>\n",
       "      <td>6080.76</td>\n",
       "      <td>False</td>\n",
       "      <td>187.98</td>\n",
       "      <td>295.79</td>\n",
       "      <td>0.33</td>\n",
       "      <td>5791.20</td>\n",
       "      <td>NaN</td>\n",
       "      <td>4</td>\n",
       "    </tr>\n",
       "    <tr>\n",
       "      <th>18646</th>\n",
       "      <td>4d03c1</td>\n",
       "      <td>NATO01</td>\n",
       "      <td>Luxembourg</td>\n",
       "      <td>1.728602e+09</td>\n",
       "      <td>1728601911</td>\n",
       "      <td>2024-10-10 23:11:51+00:00</td>\n",
       "      <td>24.0991</td>\n",
       "      <td>35.5145</td>\n",
       "      <td>9951.72</td>\n",
       "      <td>False</td>\n",
       "      <td>225.98</td>\n",
       "      <td>205.34</td>\n",
       "      <td>-0.33</td>\n",
       "      <td>9441.18</td>\n",
       "      <td>6711.0</td>\n",
       "      <td>13</td>\n",
       "    </tr>\n",
       "    <tr>\n",
       "      <th>35073</th>\n",
       "      <td>aaeae5</td>\n",
       "      <td>SKW3686</td>\n",
       "      <td>United States</td>\n",
       "      <td>1.728612e+09</td>\n",
       "      <td>1728611975</td>\n",
       "      <td>2024-10-11 01:59:35+00:00</td>\n",
       "      <td>-73.3729</td>\n",
       "      <td>41.1081</td>\n",
       "      <td>891.54</td>\n",
       "      <td>False</td>\n",
       "      <td>128.55</td>\n",
       "      <td>218.34</td>\n",
       "      <td>0.98</td>\n",
       "      <td>899.16</td>\n",
       "      <td>2010.0</td>\n",
       "      <td>4</td>\n",
       "    </tr>\n",
       "  </tbody>\n",
       "</table>\n",
       "</div>"
      ],
      "text/plain": [
       "       icao24  callsign origin_country  time_position  last_contact  \\\n",
       "25946  a2b8e2  N27481    United States   1.728602e+09    1728601902   \n",
       "29619  aa7238  UAL1222   United States   1.728612e+09    1728611973   \n",
       "21314  abe579  DAL1068   United States   1.728602e+09    1728601911   \n",
       "18646  4d03c1  NATO01       Luxembourg   1.728602e+09    1728601911   \n",
       "35073  aaeae5  SKW3686   United States   1.728612e+09    1728611975   \n",
       "\n",
       "                last_contact_utc  longitude  latitude  geo_altitude  \\\n",
       "25946  2024-10-10 23:11:42+00:00   -97.9769   43.6861        601.98   \n",
       "29619  2024-10-11 01:59:33+00:00  -103.6842   38.9526       7726.68   \n",
       "21314  2024-10-10 23:11:51+00:00  -111.8061   40.2256       6080.76   \n",
       "18646  2024-10-10 23:11:51+00:00    24.0991   35.5145       9951.72   \n",
       "35073  2024-10-11 01:59:35+00:00   -73.3729   41.1081        891.54   \n",
       "\n",
       "       on_ground  velocity  true_track  vertical_rate  baro_altitude  squawk  \\\n",
       "25946      False     59.82      176.05          -2.28         548.64     NaN   \n",
       "29619      False    205.45      311.96          -9.10        7353.30  3663.0   \n",
       "21314      False    187.98      295.79           0.33        5791.20     NaN   \n",
       "18646      False    225.98      205.34          -0.33        9441.18  6711.0   \n",
       "35073      False    128.55      218.34           0.98         899.16  2010.0   \n",
       "\n",
       "       category  \n",
       "25946         3  \n",
       "29619         1  \n",
       "21314         4  \n",
       "18646        13  \n",
       "35073         4  "
      ]
     },
     "execution_count": 49,
     "metadata": {},
     "output_type": "execute_result"
    }
   ],
   "source": [
    "f_sts_df.sample(n=5)"
   ]
  },
  {
   "cell_type": "code",
   "execution_count": 50,
   "metadata": {},
   "outputs": [
    {
     "name": "stdout",
     "output_type": "stream",
     "text": [
      "<class 'pandas.core.frame.DataFrame'>\n",
      "Index: 805 entries, 92 to 46816\n",
      "Data columns (total 16 columns):\n",
      " #   Column            Non-Null Count  Dtype  \n",
      "---  ------            --------------  -----  \n",
      " 0   icao24            805 non-null    object \n",
      " 1   callsign          805 non-null    object \n",
      " 2   origin_country    805 non-null    object \n",
      " 3   time_position     805 non-null    float64\n",
      " 4   last_contact      805 non-null    int64  \n",
      " 5   last_contact_utc  805 non-null    object \n",
      " 6   longitude         805 non-null    float64\n",
      " 7   latitude          805 non-null    float64\n",
      " 8   geo_altitude      805 non-null    float64\n",
      " 9   on_ground         805 non-null    bool   \n",
      " 10  velocity          805 non-null    float64\n",
      " 11  true_track        805 non-null    float64\n",
      " 12  vertical_rate     805 non-null    float64\n",
      " 13  baro_altitude     805 non-null    float64\n",
      " 14  squawk            805 non-null    float64\n",
      " 15  category          805 non-null    int64  \n",
      "dtypes: bool(1), float64(9), int64(2), object(4)\n",
      "memory usage: 101.4+ KB\n"
     ]
    }
   ],
   "source": [
    "def get_us_flights():\n",
    "    US_flights = pd.DataFrame(f_sts_df[f_sts_df.origin_country == \"United States\"])\n",
    "    US_flights = US_flights.dropna(how=\"any\")\n",
    "    return US_flights"
   ]
  },
  {
   "cell_type": "code",
   "execution_count": 53,
   "metadata": {},
   "outputs": [],
   "source": [
    "def get_craft_flights():\n",
    "    icao24_craft = pd.DataFrame(f_sts_df[f_sts_df.icao24 == \"adc9b6\"])\n",
    "    icao24_craft = icao24_craft.dropna(how=\"any\")\n",
    "    return icao24_craft"
   ]
  },
  {
   "cell_type": "code",
   "execution_count": null,
   "metadata": {},
   "outputs": [],
   "source": []
  }
 ],
 "metadata": {
  "kernelspec": {
   "display_name": "Python 3",
   "language": "python",
   "name": "python3"
  },
  "language_info": {
   "codemirror_mode": {
    "name": "ipython",
    "version": 3
   },
   "file_extension": ".py",
   "mimetype": "text/x-python",
   "name": "python",
   "nbconvert_exporter": "python",
   "pygments_lexer": "ipython3",
   "version": "3.12.4"
  }
 },
 "nbformat": 4,
 "nbformat_minor": 2
}

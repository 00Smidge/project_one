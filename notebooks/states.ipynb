{
 "cells": [
  {
   "cell_type": "code",
   "execution_count": 6,
   "metadata": {},
   "outputs": [],
   "source": [
    "# Importing necessary libraries for data manipulation and visualization\n",
    "import sys\n",
    "import os\n",
    "\n",
    "import pandas as pd\n",
    "import matplotlib.pyplot as plt\n",
    "import numpy as np\n",
    "import folium"
   ]
  },
  {
   "cell_type": "code",
   "execution_count": 7,
   "metadata": {},
   "outputs": [],
   "source": [
    "import os\n",
    "import pandas as pd\n",
    "\n",
    "if not os.path.exists(\"../data/flight_states.csv\"):\n",
    "    current_dir = os.path.dirname(os.path.abspath(__file__))\n",
    "    flights_csv_path = os.path.join(current_dir, \"../data/flight_states.csv\")\n",
    "else:\n",
    "    flights_csv_path = \"../data/flight_states.csv\"\n",
    "\n",
    "if os.path.exists(flights_csv_path):\n",
    "    data_csv = pd.read_csv(flights_csv_path)\n",
    "    f_sts_df = pd.DataFrame(data_csv)\n",
    "else:\n",
    "    raise FileNotFoundError(f\"CSV file not found: {flights_csv_path}\")"
   ]
  },
  {
   "cell_type": "code",
   "execution_count": 8,
   "metadata": {},
   "outputs": [],
   "source": [
    "f_sts_df = f_sts_df[f_sts_df.category > 0]\n",
    "f_sts_df = f_sts_df.dropna(how=\"any\")"
   ]
  },
  {
   "cell_type": "code",
   "execution_count": 9,
   "metadata": {},
   "outputs": [],
   "source": [
    "def get_us_flights():\n",
    "    US_flights = pd.DataFrame(f_sts_df[f_sts_df.origin_country == \"United States\"])\n",
    "    US_flights = US_flights.dropna(how=\"any\")\n",
    "    return US_flights"
   ]
  },
  {
   "cell_type": "code",
   "execution_count": 10,
   "metadata": {},
   "outputs": [],
   "source": [
    "def get_craft_flights():\n",
    "    icao24_craft = pd.DataFrame(f_sts_df[f_sts_df.icao24 == \"adc9b6\"])\n",
    "    icao24_craft = icao24_craft.dropna(how=\"any\")\n",
    "    return icao24_craft"
   ]
  },
  {
   "cell_type": "code",
   "execution_count": null,
   "metadata": {},
   "outputs": [],
   "source": []
  }
 ],
 "metadata": {
  "kernelspec": {
   "display_name": "Python 3",
   "language": "python",
   "name": "python3"
  },
  "language_info": {
   "codemirror_mode": {
    "name": "ipython",
    "version": 3
   },
   "file_extension": ".py",
   "mimetype": "text/x-python",
   "name": "python",
   "nbconvert_exporter": "python",
   "pygments_lexer": "ipython3",
   "version": "3.12.4"
  }
 },
 "nbformat": 4,
 "nbformat_minor": 2
}

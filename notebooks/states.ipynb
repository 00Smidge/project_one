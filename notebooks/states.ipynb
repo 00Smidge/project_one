{
 "cells": [
  {
   "cell_type": "code",
   "execution_count": 140,
   "metadata": {},
   "outputs": [],
   "source": [
    "# Importing necessary libraries for data manipulation and visualization\n",
    "import sys\n",
    "import os\n",
    "\n",
    "sys.path.append(os.path.abspath(\"..\"))\n",
    "from data_handlers.main import DataHandler\n",
    "import pandas as pd\n",
    "import matplotlib.pyplot as plt\n",
    "import numpy as np\n",
    "import folium"
   ]
  },
  {
   "cell_type": "code",
   "execution_count": 141,
   "metadata": {},
   "outputs": [],
   "source": [
    "data_csv = pd.read_csv(\"../data/flight_states.csv\")\n",
    "f_sts_df = pd.DataFrame(data_csv)"
   ]
  },
  {
   "cell_type": "code",
   "execution_count": null,
   "metadata": {},
   "outputs": [],
   "source": [
    "f_sts_df.info()"
   ]
  },
  {
   "cell_type": "code",
   "execution_count": null,
   "metadata": {},
   "outputs": [],
   "source": [
    "f_sts_df.isna().sum()"
   ]
  },
  {
   "cell_type": "code",
   "execution_count": 144,
   "metadata": {},
   "outputs": [],
   "source": [
    "f_sts_df = f_sts_df.drop(\"sensors\", axis=1)"
   ]
  },
  {
   "cell_type": "code",
   "execution_count": 145,
   "metadata": {},
   "outputs": [],
   "source": [
    "f_sts_df_clean = f_sts_df.dropna()"
   ]
  },
  {
   "cell_type": "code",
   "execution_count": null,
   "metadata": {},
   "outputs": [],
   "source": [
    "f_sts_df_clean.info()"
   ]
  },
  {
   "cell_type": "code",
   "execution_count": null,
   "metadata": {},
   "outputs": [],
   "source": [
    "f_sts_df.origin_country.value_counts()"
   ]
  },
  {
   "cell_type": "code",
   "execution_count": null,
   "metadata": {},
   "outputs": [],
   "source": [
    "f_sts_df.callsign.value_counts()"
   ]
  },
  {
   "cell_type": "code",
   "execution_count": null,
   "metadata": {},
   "outputs": [],
   "source": [
    "f_sts_df.icao24.value_counts()"
   ]
  },
  {
   "cell_type": "code",
   "execution_count": null,
   "metadata": {},
   "outputs": [],
   "source": []
  },
  {
   "cell_type": "code",
   "execution_count": 150,
   "metadata": {},
   "outputs": [],
   "source": [
    "map.save(\"../maps_html/index.html\")"
   ]
  },
  {
   "cell_type": "code",
   "execution_count": null,
   "metadata": {},
   "outputs": [],
   "source": [
    "f_sts_df.sample(n=5)"
   ]
  },
  {
   "cell_type": "code",
   "execution_count": null,
   "metadata": {},
   "outputs": [],
   "source": [
    "US_flights = pd.DataFrame(f_sts_df[f_sts_df.origin_country == \"United States\"])\n",
    "US_flights"
   ]
  },
  {
   "cell_type": "code",
   "execution_count": null,
   "metadata": {},
   "outputs": [],
   "source": []
  },
  {
   "cell_type": "code",
   "execution_count": null,
   "metadata": {},
   "outputs": [],
   "source": [
    "map = folium.Map(zoom_start=11)\n",
    "\n",
    "cat1 = folium.FeatureGroup(name=\"Unknown Craft\", show=True)\n",
    "cat2 = folium.FeatureGroup(name=\"Light Craft\", show=True)\n",
    "cat3 = folium.FeatureGroup(name=\"Small Craft\", show=True)\n",
    "cat4 = folium.FeatureGroup(name=\"Large Craft\", show=True)\n",
    "\n",
    "\n",
    "def markCraft(df, cat_num, cat_name):\n",
    "\n",
    "    for index, flight in US_flights.iterrows():\n",
    "        if (\n",
    "            pd.notna(flight[\"longitude\"])\n",
    "            and pd.notna(flight[\"latitude\"])\n",
    "            and flight[\"category\"] == 4\n",
    "        ):\n",
    "            print(flight.longitude, flight.latitude, flight.category)\n",
    "            folium.Marker(\n",
    "                location=[flight[\"latitude\"], flight[\"longitude\"]],\n",
    "                tooltip=\"Large Aircraft\",\n",
    "                popup=\"Large (75000 to 300000 lbs)\",\n",
    "                icon=folium.Icon(icon=\"plane\", color=\"green\"),\n",
    "            ).add_to(cat4)\n",
    "\n",
    "\n",
    "for index, flight in US_flights.iterrows():\n",
    "    if (\n",
    "        pd.notna(flight[\"longitude\"])\n",
    "        and pd.notna(flight[\"latitude\"])\n",
    "        and flight[\"category\"] == 3\n",
    "    ):\n",
    "        print(flight.longitude, flight.latitude, flight.category)\n",
    "        folium.Marker(\n",
    "            location=[flight[\"latitude\"], flight[\"longitude\"]],\n",
    "            tooltip=\"Small Aircraft\",\n",
    "            popup=\"3 = Small (15500 to 75000 lbs)\",\n",
    "            icon=folium.Icon(icon=\"plane\", color=\"pink\"),\n",
    "        ).add_to(cat3)\n",
    "\n",
    "for index, flight in US_flights.iterrows():\n",
    "    if (\n",
    "        pd.notna(flight[\"longitude\"])\n",
    "        and pd.notna(flight[\"latitude\"])\n",
    "        and flight[\"category\"] == 2\n",
    "    ):\n",
    "        print(flight.longitude, flight.latitude, flight.category)\n",
    "        folium.Marker(\n",
    "            location=[flight[\"latitude\"], flight[\"longitude\"]],\n",
    "            tooltip=\"Light Aircraft\",\n",
    "            popup=\"Light (< 15500 lbs)\",\n",
    "            icon=folium.Icon(icon=\"plane\", color=\"blue\"),\n",
    "        ).add_to(cat3)\n",
    "\n",
    "for index, flight in US_flights.iterrows():\n",
    "    if (\n",
    "        pd.notna(flight[\"longitude\"])\n",
    "        and pd.notna(flight[\"latitude\"])\n",
    "        and flight[\"category\"] == 1\n",
    "    ):\n",
    "        print(flight.longitude, flight.latitude, flight.category)\n",
    "        folium.Marker(\n",
    "            location=[flight[\"latitude\"], flight[\"longitude\"]],\n",
    "            tooltip=\"UFA\",\n",
    "            popup=\"No ADS-B Emitter Category Information\",\n",
    "            icon=folium.Icon(icon=\"plane\", color=\"red\"),\n",
    "        ).add_to(cat1)\n",
    "\n",
    "cat1.add_to(map)\n",
    "cat2.add_to(map)\n",
    "cat3.add_to(map)\n",
    "cat4.add_to(map)\n",
    "\n",
    "folium.LayerControl().add_to(map)"
   ]
  },
  {
   "cell_type": "code",
   "execution_count": 154,
   "metadata": {},
   "outputs": [],
   "source": [
    "map.save(\"../maps_html/index.html\")"
   ]
  },
  {
   "cell_type": "code",
   "execution_count": null,
   "metadata": {},
   "outputs": [],
   "source": []
  },
  {
   "cell_type": "code",
   "execution_count": null,
   "metadata": {},
   "outputs": [],
   "source": []
  }
 ],
 "metadata": {
  "kernelspec": {
   "display_name": "Python 3",
   "language": "python",
   "name": "python3"
  },
  "language_info": {
   "codemirror_mode": {
    "name": "ipython",
    "version": 3
   },
   "file_extension": ".py",
   "mimetype": "text/x-python",
   "name": "python",
   "nbconvert_exporter": "python",
   "pygments_lexer": "ipython3",
   "version": "3.12.4"
  }
 },
 "nbformat": 4,
 "nbformat_minor": 2
}

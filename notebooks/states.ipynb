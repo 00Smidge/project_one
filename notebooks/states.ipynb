{
 "cells": [
  {
   "cell_type": "code",
   "execution_count": 14,
   "metadata": {},
   "outputs": [],
   "source": [
    "# Importing necessary libraries for data manipulation and visualization\n",
    "import sys\n",
    "import os\n",
    "\n",
    "sys.path.append(os.path.abspath(\"..\"))\n",
    "from data_handlers.main import DataHandler\n",
    "import pandas as pd\n",
    "import matplotlib.pyplot as plt\n",
    "import numpy as np"
   ]
  },
  {
   "cell_type": "code",
   "execution_count": 15,
   "metadata": {},
   "outputs": [],
   "source": [
    "data_csv = pd.read_csv(\"../data/flight_states.csv\")\n",
    "f_sts_df = pd.DataFrame(data_csv)"
   ]
  },
  {
   "cell_type": "code",
   "execution_count": 16,
   "metadata": {},
   "outputs": [
    {
     "name": "stdout",
     "output_type": "stream",
     "text": [
      "<class 'pandas.core.frame.DataFrame'>\n",
      "RangeIndex: 5464 entries, 0 to 5463\n",
      "Data columns (total 18 columns):\n",
      " #   Column           Non-Null Count  Dtype  \n",
      "---  ------           --------------  -----  \n",
      " 0   icao24           5464 non-null   object \n",
      " 1   callsign         5349 non-null   object \n",
      " 2   origin_country   5464 non-null   object \n",
      " 3   time_position    5389 non-null   float64\n",
      " 4   last_contact     5464 non-null   int64  \n",
      " 5   longitude        5389 non-null   float64\n",
      " 6   latitude         5389 non-null   float64\n",
      " 7   geo_altitude     4867 non-null   float64\n",
      " 8   on_ground        5464 non-null   bool   \n",
      " 9   velocity         5463 non-null   float64\n",
      " 10  true_track       5464 non-null   float64\n",
      " 11  vertical_rate    4935 non-null   float64\n",
      " 12  sensors          0 non-null      float64\n",
      " 13  baro_altitude    4905 non-null   float64\n",
      " 14  squawk           2670 non-null   float64\n",
      " 15  spi              5464 non-null   bool   \n",
      " 16  position_source  5464 non-null   int64  \n",
      " 17  category         5464 non-null   int64  \n",
      "dtypes: bool(2), float64(10), int64(3), object(3)\n",
      "memory usage: 693.8+ KB\n"
     ]
    }
   ],
   "source": [
    "f_sts_df.info()"
   ]
  },
  {
   "cell_type": "code",
   "execution_count": 17,
   "metadata": {},
   "outputs": [
    {
     "data": {
      "text/html": [
       "<div>\n",
       "<style scoped>\n",
       "    .dataframe tbody tr th:only-of-type {\n",
       "        vertical-align: middle;\n",
       "    }\n",
       "\n",
       "    .dataframe tbody tr th {\n",
       "        vertical-align: top;\n",
       "    }\n",
       "\n",
       "    .dataframe thead th {\n",
       "        text-align: right;\n",
       "    }\n",
       "</style>\n",
       "<table border=\"1\" class=\"dataframe\">\n",
       "  <thead>\n",
       "    <tr style=\"text-align: right;\">\n",
       "      <th></th>\n",
       "      <th>icao24</th>\n",
       "      <th>callsign</th>\n",
       "      <th>origin_country</th>\n",
       "      <th>time_position</th>\n",
       "      <th>last_contact</th>\n",
       "      <th>longitude</th>\n",
       "      <th>latitude</th>\n",
       "      <th>geo_altitude</th>\n",
       "      <th>on_ground</th>\n",
       "      <th>velocity</th>\n",
       "      <th>true_track</th>\n",
       "      <th>vertical_rate</th>\n",
       "      <th>sensors</th>\n",
       "      <th>baro_altitude</th>\n",
       "      <th>squawk</th>\n",
       "      <th>spi</th>\n",
       "      <th>position_source</th>\n",
       "      <th>category</th>\n",
       "    </tr>\n",
       "  </thead>\n",
       "  <tbody>\n",
       "    <tr>\n",
       "      <th>3079</th>\n",
       "      <td>75044b</td>\n",
       "      <td>MAS2</td>\n",
       "      <td>Malaysia</td>\n",
       "      <td>1.728530e+09</td>\n",
       "      <td>1728529692</td>\n",
       "      <td>22.7075</td>\n",
       "      <td>45.5416</td>\n",
       "      <td>12527.28</td>\n",
       "      <td>False</td>\n",
       "      <td>235.96</td>\n",
       "      <td>291.76</td>\n",
       "      <td>-0.33</td>\n",
       "      <td>NaN</td>\n",
       "      <td>12192.00</td>\n",
       "      <td>3242.0</td>\n",
       "      <td>False</td>\n",
       "      <td>0</td>\n",
       "      <td>0</td>\n",
       "    </tr>\n",
       "    <tr>\n",
       "      <th>5167</th>\n",
       "      <td>407d5c</td>\n",
       "      <td>WUK463</td>\n",
       "      <td>United Kingdom</td>\n",
       "      <td>1.728530e+09</td>\n",
       "      <td>1728529692</td>\n",
       "      <td>-0.2486</td>\n",
       "      <td>51.8953</td>\n",
       "      <td>617.22</td>\n",
       "      <td>False</td>\n",
       "      <td>71.88</td>\n",
       "      <td>255.07</td>\n",
       "      <td>-4.23</td>\n",
       "      <td>NaN</td>\n",
       "      <td>701.04</td>\n",
       "      <td>3263.0</td>\n",
       "      <td>False</td>\n",
       "      <td>0</td>\n",
       "      <td>0</td>\n",
       "    </tr>\n",
       "    <tr>\n",
       "      <th>1494</th>\n",
       "      <td>ac0d21</td>\n",
       "      <td>FDX92</td>\n",
       "      <td>United States</td>\n",
       "      <td>1.728530e+09</td>\n",
       "      <td>1728529693</td>\n",
       "      <td>-7.5430</td>\n",
       "      <td>51.2462</td>\n",
       "      <td>11795.76</td>\n",
       "      <td>False</td>\n",
       "      <td>262.44</td>\n",
       "      <td>86.18</td>\n",
       "      <td>0.00</td>\n",
       "      <td>NaN</td>\n",
       "      <td>11887.20</td>\n",
       "      <td>2032.0</td>\n",
       "      <td>False</td>\n",
       "      <td>0</td>\n",
       "      <td>0</td>\n",
       "    </tr>\n",
       "    <tr>\n",
       "      <th>4970</th>\n",
       "      <td>a7e2da</td>\n",
       "      <td>SKW4961</td>\n",
       "      <td>United States</td>\n",
       "      <td>1.728530e+09</td>\n",
       "      <td>1728529692</td>\n",
       "      <td>-97.1311</td>\n",
       "      <td>34.9473</td>\n",
       "      <td>6347.46</td>\n",
       "      <td>False</td>\n",
       "      <td>171.40</td>\n",
       "      <td>1.89</td>\n",
       "      <td>-10.73</td>\n",
       "      <td>NaN</td>\n",
       "      <td>6065.52</td>\n",
       "      <td>NaN</td>\n",
       "      <td>False</td>\n",
       "      <td>0</td>\n",
       "      <td>0</td>\n",
       "    </tr>\n",
       "    <tr>\n",
       "      <th>1187</th>\n",
       "      <td>a4c492</td>\n",
       "      <td>SKW3471</td>\n",
       "      <td>United States</td>\n",
       "      <td>1.728530e+09</td>\n",
       "      <td>1728529693</td>\n",
       "      <td>-122.1013</td>\n",
       "      <td>37.4930</td>\n",
       "      <td>1264.92</td>\n",
       "      <td>False</td>\n",
       "      <td>92.71</td>\n",
       "      <td>346.20</td>\n",
       "      <td>-5.85</td>\n",
       "      <td>NaN</td>\n",
       "      <td>1226.82</td>\n",
       "      <td>NaN</td>\n",
       "      <td>False</td>\n",
       "      <td>0</td>\n",
       "      <td>0</td>\n",
       "    </tr>\n",
       "  </tbody>\n",
       "</table>\n",
       "</div>"
      ],
      "text/plain": [
       "      icao24  callsign  origin_country  time_position  last_contact  \\\n",
       "3079  75044b  MAS2            Malaysia   1.728530e+09    1728529692   \n",
       "5167  407d5c  WUK463    United Kingdom   1.728530e+09    1728529692   \n",
       "1494  ac0d21  FDX92      United States   1.728530e+09    1728529693   \n",
       "4970  a7e2da  SKW4961    United States   1.728530e+09    1728529692   \n",
       "1187  a4c492  SKW3471    United States   1.728530e+09    1728529693   \n",
       "\n",
       "      longitude  latitude  geo_altitude  on_ground  velocity  true_track  \\\n",
       "3079    22.7075   45.5416      12527.28      False    235.96      291.76   \n",
       "5167    -0.2486   51.8953        617.22      False     71.88      255.07   \n",
       "1494    -7.5430   51.2462      11795.76      False    262.44       86.18   \n",
       "4970   -97.1311   34.9473       6347.46      False    171.40        1.89   \n",
       "1187  -122.1013   37.4930       1264.92      False     92.71      346.20   \n",
       "\n",
       "      vertical_rate  sensors  baro_altitude  squawk    spi  position_source  \\\n",
       "3079          -0.33      NaN       12192.00  3242.0  False                0   \n",
       "5167          -4.23      NaN         701.04  3263.0  False                0   \n",
       "1494           0.00      NaN       11887.20  2032.0  False                0   \n",
       "4970         -10.73      NaN        6065.52     NaN  False                0   \n",
       "1187          -5.85      NaN        1226.82     NaN  False                0   \n",
       "\n",
       "      category  \n",
       "3079         0  \n",
       "5167         0  \n",
       "1494         0  \n",
       "4970         0  \n",
       "1187         0  "
      ]
     },
     "execution_count": 17,
     "metadata": {},
     "output_type": "execute_result"
    }
   ],
   "source": [
    "f_sts_df.sample(n=5)"
   ]
  },
  {
   "cell_type": "code",
   "execution_count": 18,
   "metadata": {},
   "outputs": [
    {
     "ename": "KeyError",
     "evalue": "\"None of [Index(['crft_id', 'Lon', 'Lat'], dtype='object')] are in the [columns]\"",
     "output_type": "error",
     "traceback": [
      "\u001b[0;31m---------------------------------------------------------------------------\u001b[0m",
      "\u001b[0;31mKeyError\u001b[0m                                  Traceback (most recent call last)",
      "Cell \u001b[0;32mIn[18], line 1\u001b[0m\n\u001b[0;32m----> 1\u001b[0m \u001b[43mf_sts_df\u001b[49m\u001b[43m[\u001b[49m\u001b[43m[\u001b[49m\u001b[38;5;124;43m\"\u001b[39;49m\u001b[38;5;124;43mcrft_id\u001b[39;49m\u001b[38;5;124;43m\"\u001b[39;49m\u001b[43m,\u001b[49m\u001b[43m \u001b[49m\u001b[38;5;124;43m\"\u001b[39;49m\u001b[38;5;124;43mLon\u001b[39;49m\u001b[38;5;124;43m\"\u001b[39;49m\u001b[43m,\u001b[49m\u001b[43m \u001b[49m\u001b[38;5;124;43m\"\u001b[39;49m\u001b[38;5;124;43mLat\u001b[39;49m\u001b[38;5;124;43m\"\u001b[39;49m\u001b[43m]\u001b[49m\u001b[43m]\u001b[49m\u001b[38;5;241m.\u001b[39msample(n\u001b[38;5;241m=\u001b[39m\u001b[38;5;241m5\u001b[39m)\n",
      "File \u001b[0;32m/Library/Frameworks/Python.framework/Versions/3.12/lib/python3.12/site-packages/pandas/core/frame.py:4108\u001b[0m, in \u001b[0;36mDataFrame.__getitem__\u001b[0;34m(self, key)\u001b[0m\n\u001b[1;32m   4106\u001b[0m     \u001b[38;5;28;01mif\u001b[39;00m is_iterator(key):\n\u001b[1;32m   4107\u001b[0m         key \u001b[38;5;241m=\u001b[39m \u001b[38;5;28mlist\u001b[39m(key)\n\u001b[0;32m-> 4108\u001b[0m     indexer \u001b[38;5;241m=\u001b[39m \u001b[38;5;28;43mself\u001b[39;49m\u001b[38;5;241;43m.\u001b[39;49m\u001b[43mcolumns\u001b[49m\u001b[38;5;241;43m.\u001b[39;49m\u001b[43m_get_indexer_strict\u001b[49m\u001b[43m(\u001b[49m\u001b[43mkey\u001b[49m\u001b[43m,\u001b[49m\u001b[43m \u001b[49m\u001b[38;5;124;43m\"\u001b[39;49m\u001b[38;5;124;43mcolumns\u001b[39;49m\u001b[38;5;124;43m\"\u001b[39;49m\u001b[43m)\u001b[49m[\u001b[38;5;241m1\u001b[39m]\n\u001b[1;32m   4110\u001b[0m \u001b[38;5;66;03m# take() does not accept boolean indexers\u001b[39;00m\n\u001b[1;32m   4111\u001b[0m \u001b[38;5;28;01mif\u001b[39;00m \u001b[38;5;28mgetattr\u001b[39m(indexer, \u001b[38;5;124m\"\u001b[39m\u001b[38;5;124mdtype\u001b[39m\u001b[38;5;124m\"\u001b[39m, \u001b[38;5;28;01mNone\u001b[39;00m) \u001b[38;5;241m==\u001b[39m \u001b[38;5;28mbool\u001b[39m:\n",
      "File \u001b[0;32m/Library/Frameworks/Python.framework/Versions/3.12/lib/python3.12/site-packages/pandas/core/indexes/base.py:6200\u001b[0m, in \u001b[0;36mIndex._get_indexer_strict\u001b[0;34m(self, key, axis_name)\u001b[0m\n\u001b[1;32m   6197\u001b[0m \u001b[38;5;28;01melse\u001b[39;00m:\n\u001b[1;32m   6198\u001b[0m     keyarr, indexer, new_indexer \u001b[38;5;241m=\u001b[39m \u001b[38;5;28mself\u001b[39m\u001b[38;5;241m.\u001b[39m_reindex_non_unique(keyarr)\n\u001b[0;32m-> 6200\u001b[0m \u001b[38;5;28;43mself\u001b[39;49m\u001b[38;5;241;43m.\u001b[39;49m\u001b[43m_raise_if_missing\u001b[49m\u001b[43m(\u001b[49m\u001b[43mkeyarr\u001b[49m\u001b[43m,\u001b[49m\u001b[43m \u001b[49m\u001b[43mindexer\u001b[49m\u001b[43m,\u001b[49m\u001b[43m \u001b[49m\u001b[43maxis_name\u001b[49m\u001b[43m)\u001b[49m\n\u001b[1;32m   6202\u001b[0m keyarr \u001b[38;5;241m=\u001b[39m \u001b[38;5;28mself\u001b[39m\u001b[38;5;241m.\u001b[39mtake(indexer)\n\u001b[1;32m   6203\u001b[0m \u001b[38;5;28;01mif\u001b[39;00m \u001b[38;5;28misinstance\u001b[39m(key, Index):\n\u001b[1;32m   6204\u001b[0m     \u001b[38;5;66;03m# GH 42790 - Preserve name from an Index\u001b[39;00m\n",
      "File \u001b[0;32m/Library/Frameworks/Python.framework/Versions/3.12/lib/python3.12/site-packages/pandas/core/indexes/base.py:6249\u001b[0m, in \u001b[0;36mIndex._raise_if_missing\u001b[0;34m(self, key, indexer, axis_name)\u001b[0m\n\u001b[1;32m   6247\u001b[0m \u001b[38;5;28;01mif\u001b[39;00m nmissing:\n\u001b[1;32m   6248\u001b[0m     \u001b[38;5;28;01mif\u001b[39;00m nmissing \u001b[38;5;241m==\u001b[39m \u001b[38;5;28mlen\u001b[39m(indexer):\n\u001b[0;32m-> 6249\u001b[0m         \u001b[38;5;28;01mraise\u001b[39;00m \u001b[38;5;167;01mKeyError\u001b[39;00m(\u001b[38;5;124mf\u001b[39m\u001b[38;5;124m\"\u001b[39m\u001b[38;5;124mNone of [\u001b[39m\u001b[38;5;132;01m{\u001b[39;00mkey\u001b[38;5;132;01m}\u001b[39;00m\u001b[38;5;124m] are in the [\u001b[39m\u001b[38;5;132;01m{\u001b[39;00maxis_name\u001b[38;5;132;01m}\u001b[39;00m\u001b[38;5;124m]\u001b[39m\u001b[38;5;124m\"\u001b[39m)\n\u001b[1;32m   6251\u001b[0m     not_found \u001b[38;5;241m=\u001b[39m \u001b[38;5;28mlist\u001b[39m(ensure_index(key)[missing_mask\u001b[38;5;241m.\u001b[39mnonzero()[\u001b[38;5;241m0\u001b[39m]]\u001b[38;5;241m.\u001b[39munique())\n\u001b[1;32m   6252\u001b[0m     \u001b[38;5;28;01mraise\u001b[39;00m \u001b[38;5;167;01mKeyError\u001b[39;00m(\u001b[38;5;124mf\u001b[39m\u001b[38;5;124m\"\u001b[39m\u001b[38;5;132;01m{\u001b[39;00mnot_found\u001b[38;5;132;01m}\u001b[39;00m\u001b[38;5;124m not in index\u001b[39m\u001b[38;5;124m\"\u001b[39m)\n",
      "\u001b[0;31mKeyError\u001b[0m: \"None of [Index(['crft_id', 'Lon', 'Lat'], dtype='object')] are in the [columns]\""
     ]
    }
   ],
   "source": [
    "f_sts_df[[\"crft_id\", \"Lon\", \"Lat\"]].sample(n=5)"
   ]
  },
  {
   "cell_type": "code",
   "execution_count": 8,
   "metadata": {},
   "outputs": [
    {
     "data": {
      "text/plain": [
       "<Axes: >"
      ]
     },
     "execution_count": 8,
     "metadata": {},
     "output_type": "execute_result"
    },
    {
     "data": {
      "image/png": "[encoded data removed]",
      "text/plain": [
       "<Figure size 640x480 with 1 Axes>"
      ]
     },
     "metadata": {},
     "output_type": "display_data"
    }
   ],
   "source": [
    "f_sts_df[[\"velocity\", \"Lon\", \"Lat\"]][::500].plot()"
   ]
  },
  {
   "cell_type": "code",
   "execution_count": null,
   "metadata": {},
   "outputs": [],
   "source": [
    "icao24\n",
    "startTime\n",
    "endTime\n",
    "calllsign\n",
    "path"
   ]
  }
 ],
 "metadata": {
  "kernelspec": {
   "display_name": "Python 3",
   "language": "python",
   "name": "python3"
  },
  "language_info": {
   "codemirror_mode": {
    "name": "ipython",
    "version": 3
   },
   "file_extension": ".py",
   "mimetype": "text/x-python",
   "name": "python",
   "nbconvert_exporter": "python",
   "pygments_lexer": "ipython3",
   "version": "3.12.4"
  }
 },
 "nbformat": 4,
 "nbformat_minor": 2
}

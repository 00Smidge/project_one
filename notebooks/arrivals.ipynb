{
 "cells": [
  {
   "cell_type": "code",
   "execution_count": 1,
   "metadata": {},
   "outputs": [],
   "source": [
    "# Importing necessary libraries for data manipulation and visualization\n",
    "import sys\n",
    "import os\n",
    "\n",
    "sys.path.append(os.path.abspath(\"..\"))\n",
    "from data_handlers.main import DataHandler\n",
    "import pandas as pd\n",
    "import matplotlib.pyplot as plt\n",
    "import numpy as np"
   ]
  },
  {
   "cell_type": "code",
   "execution_count": 2,
   "metadata": {},
   "outputs": [],
   "source": [
    "data_csv = pd.read_csv(\"../data/arrivals.csv\")\n",
    "arv_df = pd.DataFrame(data_csv)"
   ]
  },
  {
   "cell_type": "code",
   "execution_count": 3,
   "metadata": {},
   "outputs": [],
   "source": [
    "data_csv = pd.read_csv(\"../data/flights_by_aircraft.csv\")\n",
    "a_crft_df = pd.DataFrame(data_csv)"
   ]
  },
  {
   "cell_type": "code",
   "execution_count": 4,
   "metadata": {},
   "outputs": [
    {
     "data": {
      "text/html": [
       "<div>\n",
       "<style scoped>\n",
       "    .dataframe tbody tr th:only-of-type {\n",
       "        vertical-align: middle;\n",
       "    }\n",
       "\n",
       "    .dataframe tbody tr th {\n",
       "        vertical-align: top;\n",
       "    }\n",
       "\n",
       "    .dataframe thead th {\n",
       "        text-align: right;\n",
       "    }\n",
       "</style>\n",
       "<table border=\"1\" class=\"dataframe\">\n",
       "  <thead>\n",
       "    <tr style=\"text-align: right;\">\n",
       "      <th></th>\n",
       "      <th>icao24</th>\n",
       "      <th>firstSeen</th>\n",
       "      <th>firstSeen_utc</th>\n",
       "      <th>estDepartureAirport</th>\n",
       "      <th>lastSeen</th>\n",
       "      <th>lastSeen_uts</th>\n",
       "      <th>estArrivalAirport</th>\n",
       "      <th>callsign</th>\n",
       "      <th>estDepartureAirportHorizDistance</th>\n",
       "      <th>estDepartureAirportVertDistance</th>\n",
       "      <th>estArrivalAirportHorizDistance</th>\n",
       "      <th>estArrivalAirportVertDistance</th>\n",
       "      <th>departureAirportCandidatesCount</th>\n",
       "      <th>arrivalAirportCandidatesCount</th>\n",
       "    </tr>\n",
       "  </thead>\n",
       "  <tbody>\n",
       "    <tr>\n",
       "      <th>22</th>\n",
       "      <td>3c664e</td>\n",
       "      <td>1728598981</td>\n",
       "      <td>2024-10-10 22:23:01+00:00</td>\n",
       "      <td>EDDF</td>\n",
       "      <td>1728601603</td>\n",
       "      <td>2024-10-10 23:06:43+00:00</td>\n",
       "      <td>NaN</td>\n",
       "      <td>DLH1LC</td>\n",
       "      <td>1944.0</td>\n",
       "      <td>308.0</td>\n",
       "      <td>NaN</td>\n",
       "      <td>NaN</td>\n",
       "      <td>151</td>\n",
       "      <td>0</td>\n",
       "    </tr>\n",
       "    <tr>\n",
       "      <th>5</th>\n",
       "      <td>51113f</td>\n",
       "      <td>1728539409</td>\n",
       "      <td>2024-10-10 05:50:09+00:00</td>\n",
       "      <td>EEKE</td>\n",
       "      <td>1728540800</td>\n",
       "      <td>2024-10-10 06:13:20+00:00</td>\n",
       "      <td>NaN</td>\n",
       "      <td>NYX202</td>\n",
       "      <td>16260.0</td>\n",
       "      <td>1877.0</td>\n",
       "      <td>NaN</td>\n",
       "      <td>NaN</td>\n",
       "      <td>17</td>\n",
       "      <td>0</td>\n",
       "    </tr>\n",
       "    <tr>\n",
       "      <th>27</th>\n",
       "      <td>a3b85b</td>\n",
       "      <td>1728609915</td>\n",
       "      <td>2024-10-11 01:25:15+00:00</td>\n",
       "      <td>KFBL</td>\n",
       "      <td>1728610177</td>\n",
       "      <td>2024-10-11 01:29:37+00:00</td>\n",
       "      <td>NaN</td>\n",
       "      <td>MVK35</td>\n",
       "      <td>9561.0</td>\n",
       "      <td>690.0</td>\n",
       "      <td>NaN</td>\n",
       "      <td>NaN</td>\n",
       "      <td>233</td>\n",
       "      <td>0</td>\n",
       "    </tr>\n",
       "    <tr>\n",
       "      <th>15</th>\n",
       "      <td>aa3cbe</td>\n",
       "      <td>1728601001</td>\n",
       "      <td>2024-10-10 22:56:41+00:00</td>\n",
       "      <td>KLGU</td>\n",
       "      <td>1728601917</td>\n",
       "      <td>2024-10-10 23:11:57+00:00</td>\n",
       "      <td>NaN</td>\n",
       "      <td>N759PA</td>\n",
       "      <td>524.0</td>\n",
       "      <td>28.0</td>\n",
       "      <td>NaN</td>\n",
       "      <td>NaN</td>\n",
       "      <td>59</td>\n",
       "      <td>0</td>\n",
       "    </tr>\n",
       "    <tr>\n",
       "      <th>24</th>\n",
       "      <td>7c6b2d</td>\n",
       "      <td>1728609800</td>\n",
       "      <td>2024-10-11 01:23:20+00:00</td>\n",
       "      <td>YMML</td>\n",
       "      <td>1728611929</td>\n",
       "      <td>2024-10-11 01:58:49+00:00</td>\n",
       "      <td>NaN</td>\n",
       "      <td>JST472</td>\n",
       "      <td>2688.0</td>\n",
       "      <td>103.0</td>\n",
       "      <td>NaN</td>\n",
       "      <td>NaN</td>\n",
       "      <td>89</td>\n",
       "      <td>0</td>\n",
       "    </tr>\n",
       "  </tbody>\n",
       "</table>\n",
       "</div>"
      ],
      "text/plain": [
       "    icao24   firstSeen              firstSeen_utc estDepartureAirport  \\\n",
       "22  3c664e  1728598981  2024-10-10 22:23:01+00:00                EDDF   \n",
       "5   51113f  1728539409  2024-10-10 05:50:09+00:00                EEKE   \n",
       "27  a3b85b  1728609915  2024-10-11 01:25:15+00:00                KFBL   \n",
       "15  aa3cbe  1728601001  2024-10-10 22:56:41+00:00                KLGU   \n",
       "24  7c6b2d  1728609800  2024-10-11 01:23:20+00:00                YMML   \n",
       "\n",
       "      lastSeen               lastSeen_uts estArrivalAirport  callsign  \\\n",
       "22  1728601603  2024-10-10 23:06:43+00:00               NaN  DLH1LC     \n",
       "5   1728540800  2024-10-10 06:13:20+00:00               NaN  NYX202     \n",
       "27  1728610177  2024-10-11 01:29:37+00:00               NaN  MVK35      \n",
       "15  1728601917  2024-10-10 23:11:57+00:00               NaN  N759PA     \n",
       "24  1728611929  2024-10-11 01:58:49+00:00               NaN  JST472     \n",
       "\n",
       "    estDepartureAirportHorizDistance  estDepartureAirportVertDistance  \\\n",
       "22                            1944.0                            308.0   \n",
       "5                            16260.0                           1877.0   \n",
       "27                            9561.0                            690.0   \n",
       "15                             524.0                             28.0   \n",
       "24                            2688.0                            103.0   \n",
       "\n",
       "    estArrivalAirportHorizDistance  estArrivalAirportVertDistance  \\\n",
       "22                             NaN                            NaN   \n",
       "5                              NaN                            NaN   \n",
       "27                             NaN                            NaN   \n",
       "15                             NaN                            NaN   \n",
       "24                             NaN                            NaN   \n",
       "\n",
       "    departureAirportCandidatesCount  arrivalAirportCandidatesCount  \n",
       "22                              151                              0  \n",
       "5                                17                              0  \n",
       "27                              233                              0  \n",
       "15                               59                              0  \n",
       "24                               89                              0  "
      ]
     },
     "execution_count": 4,
     "metadata": {},
     "output_type": "execute_result"
    }
   ],
   "source": [
    "a_crft_df.sample(n=5)"
   ]
  },
  {
   "cell_type": "code",
   "execution_count": 5,
   "metadata": {},
   "outputs": [
    {
     "data": {
      "text/html": [
       "<div>\n",
       "<style scoped>\n",
       "    .dataframe tbody tr th:only-of-type {\n",
       "        vertical-align: middle;\n",
       "    }\n",
       "\n",
       "    .dataframe tbody tr th {\n",
       "        vertical-align: top;\n",
       "    }\n",
       "\n",
       "    .dataframe thead th {\n",
       "        text-align: right;\n",
       "    }\n",
       "</style>\n",
       "<table border=\"1\" class=\"dataframe\">\n",
       "  <thead>\n",
       "    <tr style=\"text-align: right;\">\n",
       "      <th></th>\n",
       "      <th>icao24</th>\n",
       "      <th>firstSeen</th>\n",
       "      <th>firstSeen_utc</th>\n",
       "      <th>estDepartureAirport</th>\n",
       "      <th>lastSeen</th>\n",
       "      <th>lastSeen_uts</th>\n",
       "      <th>estArrivalAirport</th>\n",
       "      <th>callsign</th>\n",
       "      <th>estDepartureAirportHorizDistance</th>\n",
       "      <th>estDepartureAirportVertDistance</th>\n",
       "      <th>estArrivalAirportHorizDistance</th>\n",
       "      <th>estArrivalAirportVertDistance</th>\n",
       "      <th>departureAirportCandidatesCount</th>\n",
       "      <th>arrivalAirportCandidatesCount</th>\n",
       "    </tr>\n",
       "  </thead>\n",
       "  <tbody>\n",
       "    <tr>\n",
       "      <th>5</th>\n",
       "      <td>040045</td>\n",
       "      <td>1728599511</td>\n",
       "      <td>2024-10-10 22:31:51+00:00</td>\n",
       "      <td>NaN</td>\n",
       "      <td>1728600893</td>\n",
       "      <td>2024-10-10 22:54:53+00:00</td>\n",
       "      <td>WSAC</td>\n",
       "      <td>ETH639</td>\n",
       "      <td>0</td>\n",
       "      <td>0</td>\n",
       "      <td>24468</td>\n",
       "      <td>2774</td>\n",
       "      <td>0</td>\n",
       "      <td>2</td>\n",
       "    </tr>\n",
       "    <tr>\n",
       "      <th>0</th>\n",
       "      <td>7c38ba</td>\n",
       "      <td>1728538528</td>\n",
       "      <td>2024-10-10 05:35:28+00:00</td>\n",
       "      <td>YSBK</td>\n",
       "      <td>1728538528</td>\n",
       "      <td>2024-10-10 05:35:28+00:00</td>\n",
       "      <td>YSBK</td>\n",
       "      <td>LHO</td>\n",
       "      <td>891</td>\n",
       "      <td>24</td>\n",
       "      <td>886</td>\n",
       "      <td>24</td>\n",
       "      <td>35</td>\n",
       "      <td>35</td>\n",
       "    </tr>\n",
       "    <tr>\n",
       "      <th>4</th>\n",
       "      <td>48c22e</td>\n",
       "      <td>1728592826</td>\n",
       "      <td>2024-10-10 20:40:26+00:00</td>\n",
       "      <td>NaN</td>\n",
       "      <td>1728595996</td>\n",
       "      <td>2024-10-10 21:33:16+00:00</td>\n",
       "      <td>EPKK</td>\n",
       "      <td>RYR1901</td>\n",
       "      <td>0</td>\n",
       "      <td>0</td>\n",
       "      <td>11</td>\n",
       "      <td>109</td>\n",
       "      <td>0</td>\n",
       "      <td>42</td>\n",
       "    </tr>\n",
       "    <tr>\n",
       "      <th>2</th>\n",
       "      <td>a0c538</td>\n",
       "      <td>1728537646</td>\n",
       "      <td>2024-10-10 05:20:46+00:00</td>\n",
       "      <td>KMFR</td>\n",
       "      <td>1728538987</td>\n",
       "      <td>2024-10-10 05:43:07+00:00</td>\n",
       "      <td>KS03</td>\n",
       "      <td>N149MF</td>\n",
       "      <td>14138</td>\n",
       "      <td>1703</td>\n",
       "      <td>16020</td>\n",
       "      <td>2275</td>\n",
       "      <td>74</td>\n",
       "      <td>54</td>\n",
       "    </tr>\n",
       "    <tr>\n",
       "      <th>1</th>\n",
       "      <td>7c6ac5</td>\n",
       "      <td>1728538946</td>\n",
       "      <td>2024-10-10 05:42:26+00:00</td>\n",
       "      <td>YBLT</td>\n",
       "      <td>1728540257</td>\n",
       "      <td>2024-10-10 06:04:17+00:00</td>\n",
       "      <td>YMAV</td>\n",
       "      <td>VDJ</td>\n",
       "      <td>1481</td>\n",
       "      <td>584</td>\n",
       "      <td>795</td>\n",
       "      <td>71</td>\n",
       "      <td>91</td>\n",
       "      <td>83</td>\n",
       "    </tr>\n",
       "  </tbody>\n",
       "</table>\n",
       "</div>"
      ],
      "text/plain": [
       "   icao24   firstSeen              firstSeen_utc estDepartureAirport  \\\n",
       "5  040045  1728599511  2024-10-10 22:31:51+00:00                 NaN   \n",
       "0  7c38ba  1728538528  2024-10-10 05:35:28+00:00                YSBK   \n",
       "4  48c22e  1728592826  2024-10-10 20:40:26+00:00                 NaN   \n",
       "2  a0c538  1728537646  2024-10-10 05:20:46+00:00                KMFR   \n",
       "1  7c6ac5  1728538946  2024-10-10 05:42:26+00:00                YBLT   \n",
       "\n",
       "     lastSeen               lastSeen_uts estArrivalAirport  callsign  \\\n",
       "5  1728600893  2024-10-10 22:54:53+00:00              WSAC  ETH639     \n",
       "0  1728538528  2024-10-10 05:35:28+00:00              YSBK  LHO        \n",
       "4  1728595996  2024-10-10 21:33:16+00:00              EPKK  RYR1901    \n",
       "2  1728538987  2024-10-10 05:43:07+00:00              KS03  N149MF     \n",
       "1  1728540257  2024-10-10 06:04:17+00:00              YMAV  VDJ        \n",
       "\n",
       "   estDepartureAirportHorizDistance  estDepartureAirportVertDistance  \\\n",
       "5                                 0                                0   \n",
       "0                               891                               24   \n",
       "4                                 0                                0   \n",
       "2                             14138                             1703   \n",
       "1                              1481                              584   \n",
       "\n",
       "   estArrivalAirportHorizDistance  estArrivalAirportVertDistance  \\\n",
       "5                           24468                           2774   \n",
       "0                             886                             24   \n",
       "4                              11                            109   \n",
       "2                           16020                           2275   \n",
       "1                             795                             71   \n",
       "\n",
       "   departureAirportCandidatesCount  arrivalAirportCandidatesCount  \n",
       "5                                0                              2  \n",
       "0                               35                             35  \n",
       "4                                0                             42  \n",
       "2                               74                             54  \n",
       "1                               91                             83  "
      ]
     },
     "execution_count": 5,
     "metadata": {},
     "output_type": "execute_result"
    }
   ],
   "source": [
    "arv_df.sample(n=5)"
   ]
  },
  {
   "cell_type": "code",
   "execution_count": 6,
   "metadata": {},
   "outputs": [
    {
     "name": "stdout",
     "output_type": "stream",
     "text": [
      "<class 'pandas.core.frame.DataFrame'>\n",
      "RangeIndex: 6 entries, 0 to 5\n",
      "Data columns (total 14 columns):\n",
      " #   Column                            Non-Null Count  Dtype \n",
      "---  ------                            --------------  ----- \n",
      " 0   icao24                            6 non-null      object\n",
      " 1   firstSeen                         6 non-null      int64 \n",
      " 2   firstSeen_utc                     6 non-null      object\n",
      " 3   estDepartureAirport               3 non-null      object\n",
      " 4   lastSeen                          6 non-null      int64 \n",
      " 5   lastSeen_uts                      6 non-null      object\n",
      " 6   estArrivalAirport                 6 non-null      object\n",
      " 7   callsign                          6 non-null      object\n",
      " 8   estDepartureAirportHorizDistance  6 non-null      int64 \n",
      " 9   estDepartureAirportVertDistance   6 non-null      int64 \n",
      " 10  estArrivalAirportHorizDistance    6 non-null      int64 \n",
      " 11  estArrivalAirportVertDistance     6 non-null      int64 \n",
      " 12  departureAirportCandidatesCount   6 non-null      int64 \n",
      " 13  arrivalAirportCandidatesCount     6 non-null      int64 \n",
      "dtypes: int64(8), object(6)\n",
      "memory usage: 804.0+ bytes\n"
     ]
    }
   ],
   "source": [
    "arv_df.info()"
   ]
  },
  {
   "cell_type": "code",
   "execution_count": 7,
   "metadata": {},
   "outputs": [
    {
     "data": {
      "text/plain": [
       "icao24                              0\n",
       "firstSeen                           0\n",
       "firstSeen_utc                       0\n",
       "estDepartureAirport                 3\n",
       "lastSeen                            0\n",
       "lastSeen_uts                        0\n",
       "estArrivalAirport                   0\n",
       "callsign                            0\n",
       "estDepartureAirportHorizDistance    0\n",
       "estDepartureAirportVertDistance     0\n",
       "estArrivalAirportHorizDistance      0\n",
       "estArrivalAirportVertDistance       0\n",
       "departureAirportCandidatesCount     0\n",
       "arrivalAirportCandidatesCount       0\n",
       "dtype: int64"
      ]
     },
     "execution_count": 7,
     "metadata": {},
     "output_type": "execute_result"
    }
   ],
   "source": [
    "arv_df.isnull().sum()"
   ]
  },
  {
   "cell_type": "code",
   "execution_count": 8,
   "metadata": {},
   "outputs": [
    {
     "data": {
      "text/plain": [
       "icao24                              0\n",
       "firstSeen                           0\n",
       "firstSeen_utc                       0\n",
       "estDepartureAirport                 3\n",
       "lastSeen                            0\n",
       "lastSeen_uts                        0\n",
       "estArrivalAirport                   0\n",
       "callsign                            0\n",
       "estDepartureAirportHorizDistance    0\n",
       "estDepartureAirportVertDistance     0\n",
       "estArrivalAirportHorizDistance      0\n",
       "estArrivalAirportVertDistance       0\n",
       "departureAirportCandidatesCount     0\n",
       "arrivalAirportCandidatesCount       0\n",
       "dtype: int64"
      ]
     },
     "execution_count": 8,
     "metadata": {},
     "output_type": "execute_result"
    }
   ],
   "source": [
    "arv_df.isna().sum()"
   ]
  },
  {
   "cell_type": "code",
   "execution_count": 9,
   "metadata": {},
   "outputs": [],
   "source": [
    "arv_df = arv_df.dropna(how=\"any\")"
   ]
  },
  {
   "cell_type": "code",
   "execution_count": 10,
   "metadata": {},
   "outputs": [
    {
     "data": {
      "text/plain": [
       "icao24                              0\n",
       "firstSeen                           0\n",
       "firstSeen_utc                       0\n",
       "estDepartureAirport                 0\n",
       "lastSeen                            0\n",
       "lastSeen_uts                        0\n",
       "estArrivalAirport                   0\n",
       "callsign                            0\n",
       "estDepartureAirportHorizDistance    0\n",
       "estDepartureAirportVertDistance     0\n",
       "estArrivalAirportHorizDistance      0\n",
       "estArrivalAirportVertDistance       0\n",
       "departureAirportCandidatesCount     0\n",
       "arrivalAirportCandidatesCount       0\n",
       "dtype: int64"
      ]
     },
     "execution_count": 10,
     "metadata": {},
     "output_type": "execute_result"
    }
   ],
   "source": [
    "arv_df.isna().sum()"
   ]
  },
  {
   "cell_type": "code",
   "execution_count": 11,
   "metadata": {},
   "outputs": [
    {
     "name": "stdout",
     "output_type": "stream",
     "text": [
      "<class 'pandas.core.frame.DataFrame'>\n",
      "Index: 3 entries, 0 to 2\n",
      "Data columns (total 14 columns):\n",
      " #   Column                            Non-Null Count  Dtype \n",
      "---  ------                            --------------  ----- \n",
      " 0   icao24                            3 non-null      object\n",
      " 1   firstSeen                         3 non-null      int64 \n",
      " 2   firstSeen_utc                     3 non-null      object\n",
      " 3   estDepartureAirport               3 non-null      object\n",
      " 4   lastSeen                          3 non-null      int64 \n",
      " 5   lastSeen_uts                      3 non-null      object\n",
      " 6   estArrivalAirport                 3 non-null      object\n",
      " 7   callsign                          3 non-null      object\n",
      " 8   estDepartureAirportHorizDistance  3 non-null      int64 \n",
      " 9   estDepartureAirportVertDistance   3 non-null      int64 \n",
      " 10  estArrivalAirportHorizDistance    3 non-null      int64 \n",
      " 11  estArrivalAirportVertDistance     3 non-null      int64 \n",
      " 12  departureAirportCandidatesCount   3 non-null      int64 \n",
      " 13  arrivalAirportCandidatesCount     3 non-null      int64 \n",
      "dtypes: int64(8), object(6)\n",
      "memory usage: 360.0+ bytes\n"
     ]
    }
   ],
   "source": [
    "arv_df.info()"
   ]
  },
  {
   "cell_type": "code",
   "execution_count": 12,
   "metadata": {},
   "outputs": [
    {
     "ename": "KeyError",
     "evalue": "\"None of [Index(['dist_frm_orig_v', 'dist_frm_orig_h'], dtype='object')] are in the [columns]\"",
     "output_type": "error",
     "traceback": [
      "\u001b[0;31m---------------------------------------------------------------------------\u001b[0m",
      "\u001b[0;31mKeyError\u001b[0m                                  Traceback (most recent call last)",
      "Cell \u001b[0;32mIn[12], line 1\u001b[0m\n\u001b[0;32m----> 1\u001b[0m \u001b[43marv_df\u001b[49m\u001b[43m[\u001b[49m\u001b[43m[\u001b[49m\u001b[38;5;124;43m\"\u001b[39;49m\u001b[38;5;124;43mdist_frm_orig_v\u001b[39;49m\u001b[38;5;124;43m\"\u001b[39;49m\u001b[43m,\u001b[49m\u001b[43m \u001b[49m\u001b[38;5;124;43m\"\u001b[39;49m\u001b[38;5;124;43mdist_frm_orig_h\u001b[39;49m\u001b[38;5;124;43m\"\u001b[39;49m\u001b[43m]\u001b[49m\u001b[43m]\u001b[49m\u001b[38;5;241m.\u001b[39mplot()\n",
      "File \u001b[0;32m/Library/Frameworks/Python.framework/Versions/3.12/lib/python3.12/site-packages/pandas/core/frame.py:4108\u001b[0m, in \u001b[0;36mDataFrame.__getitem__\u001b[0;34m(self, key)\u001b[0m\n\u001b[1;32m   4106\u001b[0m     \u001b[38;5;28;01mif\u001b[39;00m is_iterator(key):\n\u001b[1;32m   4107\u001b[0m         key \u001b[38;5;241m=\u001b[39m \u001b[38;5;28mlist\u001b[39m(key)\n\u001b[0;32m-> 4108\u001b[0m     indexer \u001b[38;5;241m=\u001b[39m \u001b[38;5;28;43mself\u001b[39;49m\u001b[38;5;241;43m.\u001b[39;49m\u001b[43mcolumns\u001b[49m\u001b[38;5;241;43m.\u001b[39;49m\u001b[43m_get_indexer_strict\u001b[49m\u001b[43m(\u001b[49m\u001b[43mkey\u001b[49m\u001b[43m,\u001b[49m\u001b[43m \u001b[49m\u001b[38;5;124;43m\"\u001b[39;49m\u001b[38;5;124;43mcolumns\u001b[39;49m\u001b[38;5;124;43m\"\u001b[39;49m\u001b[43m)\u001b[49m[\u001b[38;5;241m1\u001b[39m]\n\u001b[1;32m   4110\u001b[0m \u001b[38;5;66;03m# take() does not accept boolean indexers\u001b[39;00m\n\u001b[1;32m   4111\u001b[0m \u001b[38;5;28;01mif\u001b[39;00m \u001b[38;5;28mgetattr\u001b[39m(indexer, \u001b[38;5;124m\"\u001b[39m\u001b[38;5;124mdtype\u001b[39m\u001b[38;5;124m\"\u001b[39m, \u001b[38;5;28;01mNone\u001b[39;00m) \u001b[38;5;241m==\u001b[39m \u001b[38;5;28mbool\u001b[39m:\n",
      "File \u001b[0;32m/Library/Frameworks/Python.framework/Versions/3.12/lib/python3.12/site-packages/pandas/core/indexes/base.py:6200\u001b[0m, in \u001b[0;36mIndex._get_indexer_strict\u001b[0;34m(self, key, axis_name)\u001b[0m\n\u001b[1;32m   6197\u001b[0m \u001b[38;5;28;01melse\u001b[39;00m:\n\u001b[1;32m   6198\u001b[0m     keyarr, indexer, new_indexer \u001b[38;5;241m=\u001b[39m \u001b[38;5;28mself\u001b[39m\u001b[38;5;241m.\u001b[39m_reindex_non_unique(keyarr)\n\u001b[0;32m-> 6200\u001b[0m \u001b[38;5;28;43mself\u001b[39;49m\u001b[38;5;241;43m.\u001b[39;49m\u001b[43m_raise_if_missing\u001b[49m\u001b[43m(\u001b[49m\u001b[43mkeyarr\u001b[49m\u001b[43m,\u001b[49m\u001b[43m \u001b[49m\u001b[43mindexer\u001b[49m\u001b[43m,\u001b[49m\u001b[43m \u001b[49m\u001b[43maxis_name\u001b[49m\u001b[43m)\u001b[49m\n\u001b[1;32m   6202\u001b[0m keyarr \u001b[38;5;241m=\u001b[39m \u001b[38;5;28mself\u001b[39m\u001b[38;5;241m.\u001b[39mtake(indexer)\n\u001b[1;32m   6203\u001b[0m \u001b[38;5;28;01mif\u001b[39;00m \u001b[38;5;28misinstance\u001b[39m(key, Index):\n\u001b[1;32m   6204\u001b[0m     \u001b[38;5;66;03m# GH 42790 - Preserve name from an Index\u001b[39;00m\n",
      "File \u001b[0;32m/Library/Frameworks/Python.framework/Versions/3.12/lib/python3.12/site-packages/pandas/core/indexes/base.py:6249\u001b[0m, in \u001b[0;36mIndex._raise_if_missing\u001b[0;34m(self, key, indexer, axis_name)\u001b[0m\n\u001b[1;32m   6247\u001b[0m \u001b[38;5;28;01mif\u001b[39;00m nmissing:\n\u001b[1;32m   6248\u001b[0m     \u001b[38;5;28;01mif\u001b[39;00m nmissing \u001b[38;5;241m==\u001b[39m \u001b[38;5;28mlen\u001b[39m(indexer):\n\u001b[0;32m-> 6249\u001b[0m         \u001b[38;5;28;01mraise\u001b[39;00m \u001b[38;5;167;01mKeyError\u001b[39;00m(\u001b[38;5;124mf\u001b[39m\u001b[38;5;124m\"\u001b[39m\u001b[38;5;124mNone of [\u001b[39m\u001b[38;5;132;01m{\u001b[39;00mkey\u001b[38;5;132;01m}\u001b[39;00m\u001b[38;5;124m] are in the [\u001b[39m\u001b[38;5;132;01m{\u001b[39;00maxis_name\u001b[38;5;132;01m}\u001b[39;00m\u001b[38;5;124m]\u001b[39m\u001b[38;5;124m\"\u001b[39m)\n\u001b[1;32m   6251\u001b[0m     not_found \u001b[38;5;241m=\u001b[39m \u001b[38;5;28mlist\u001b[39m(ensure_index(key)[missing_mask\u001b[38;5;241m.\u001b[39mnonzero()[\u001b[38;5;241m0\u001b[39m]]\u001b[38;5;241m.\u001b[39munique())\n\u001b[1;32m   6252\u001b[0m     \u001b[38;5;28;01mraise\u001b[39;00m \u001b[38;5;167;01mKeyError\u001b[39;00m(\u001b[38;5;124mf\u001b[39m\u001b[38;5;124m\"\u001b[39m\u001b[38;5;132;01m{\u001b[39;00mnot_found\u001b[38;5;132;01m}\u001b[39;00m\u001b[38;5;124m not in index\u001b[39m\u001b[38;5;124m\"\u001b[39m)\n",
      "\u001b[0;31mKeyError\u001b[0m: \"None of [Index(['dist_frm_orig_v', 'dist_frm_orig_h'], dtype='object')] are in the [columns]\""
     ]
    }
   ],
   "source": [
    "arv_df[[\"dist_frm_orig_v\", \"dist_frm_orig_h\"]].plot()"
   ]
  },
  {
   "cell_type": "code",
   "execution_count": null,
   "metadata": {},
   "outputs": [],
   "source": [
    "arv_df.sample(n=5)"
   ]
  },
  {
   "cell_type": "markdown",
   "metadata": {},
   "source": []
  },
  {
   "cell_type": "code",
   "execution_count": null,
   "metadata": {},
   "outputs": [],
   "source": []
  }
 ],
 "metadata": {
  "kernelspec": {
   "display_name": "Python 3",
   "language": "python",
   "name": "python3"
  },
  "language_info": {
   "codemirror_mode": {
    "name": "ipython",
    "version": 3
   },
   "file_extension": ".py",
   "mimetype": "text/x-python",
   "name": "python",
   "nbconvert_exporter": "python",
   "pygments_lexer": "ipython3",
   "version": "3.12.4"
  }
 },
 "nbformat": 4,
 "nbformat_minor": 2
}

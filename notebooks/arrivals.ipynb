{
 "cells": [
  {
   "cell_type": "code",
   "execution_count": 47,
   "metadata": {},
   "outputs": [],
   "source": [
    "# Importing necessary libraries for data manipulation and visualization\n",
    "import sys\n",
    "import os\n",
    "\n",
    "sys.path.append(os.path.abspath(\"..\"))\n",
    "from data_handlers.main import DataHandler\n",
    "import pandas as pd\n",
    "import matplotlib.pyplot as plt\n",
    "import numpy as np"
   ]
  },
  {
   "cell_type": "code",
   "execution_count": 48,
   "metadata": {},
   "outputs": [],
   "source": [
    "data_csv = pd.read_csv(\"../data/arrivals.csv\")\n",
    "arv_df = pd.DataFrame(data_csv)"
   ]
  },
  {
   "cell_type": "code",
   "execution_count": 49,
   "metadata": {},
   "outputs": [],
   "source": [
    "data_csv = pd.read_csv(\"../data/flights_by_aircraft.csv\")\n",
    "a_crft_df = pd.DataFrame(data_csv)"
   ]
  },
  {
   "cell_type": "code",
   "execution_count": 50,
   "metadata": {},
   "outputs": [
    {
     "data": {
      "text/html": [
       "<div>\n",
       "<style scoped>\n",
       "    .dataframe tbody tr th:only-of-type {\n",
       "        vertical-align: middle;\n",
       "    }\n",
       "\n",
       "    .dataframe tbody tr th {\n",
       "        vertical-align: top;\n",
       "    }\n",
       "\n",
       "    .dataframe thead th {\n",
       "        text-align: right;\n",
       "    }\n",
       "</style>\n",
       "<table border=\"1\" class=\"dataframe\">\n",
       "  <thead>\n",
       "    <tr style=\"text-align: right;\">\n",
       "      <th></th>\n",
       "      <th>icao24</th>\n",
       "      <th>departed</th>\n",
       "      <th>origin</th>\n",
       "      <th>destination</th>\n",
       "      <th>arrived</th>\n",
       "      <th>dist_frm_orig_h</th>\n",
       "      <th>dist_frm_orig_v</th>\n",
       "      <th>dist_frm_dest_h</th>\n",
       "      <th>dist_frm_dest_v</th>\n",
       "    </tr>\n",
       "  </thead>\n",
       "  <tbody>\n",
       "    <tr>\n",
       "      <th>9</th>\n",
       "      <td>3c4b26</td>\n",
       "      <td>1688691125</td>\n",
       "      <td>VOBL</td>\n",
       "      <td>EDDF</td>\n",
       "      <td>1688722166</td>\n",
       "      <td>2547.0</td>\n",
       "      <td>121.0</td>\n",
       "      <td>2951.0</td>\n",
       "      <td>42.0</td>\n",
       "    </tr>\n",
       "    <tr>\n",
       "      <th>5</th>\n",
       "      <td>3c4b26</td>\n",
       "      <td>1688982692</td>\n",
       "      <td>EDDF</td>\n",
       "      <td>KMIA</td>\n",
       "      <td>1689015262</td>\n",
       "      <td>1088.0</td>\n",
       "      <td>65.0</td>\n",
       "      <td>4823.0</td>\n",
       "      <td>127.0</td>\n",
       "    </tr>\n",
       "    <tr>\n",
       "      <th>0</th>\n",
       "      <td>3c4b26</td>\n",
       "      <td>1689202427</td>\n",
       "      <td>KIAD</td>\n",
       "      <td>EDDF</td>\n",
       "      <td>1689228292</td>\n",
       "      <td>1296.0</td>\n",
       "      <td>3.0</td>\n",
       "      <td>942.0</td>\n",
       "      <td>42.0</td>\n",
       "    </tr>\n",
       "    <tr>\n",
       "      <th>7</th>\n",
       "      <td>3c4b26</td>\n",
       "      <td>1688891925</td>\n",
       "      <td>EDDF</td>\n",
       "      <td>NaN</td>\n",
       "      <td>1688926536</td>\n",
       "      <td>1363.0</td>\n",
       "      <td>72.0</td>\n",
       "      <td>NaN</td>\n",
       "      <td>NaN</td>\n",
       "    </tr>\n",
       "    <tr>\n",
       "      <th>2</th>\n",
       "      <td>3c4b26</td>\n",
       "      <td>1689120355</td>\n",
       "      <td>NaN</td>\n",
       "      <td>EDDF</td>\n",
       "      <td>1689151678</td>\n",
       "      <td>NaN</td>\n",
       "      <td>NaN</td>\n",
       "      <td>1365.0</td>\n",
       "      <td>10.0</td>\n",
       "    </tr>\n",
       "  </tbody>\n",
       "</table>\n",
       "</div>"
      ],
      "text/plain": [
       "   icao24    departed origin destination     arrived  dist_frm_orig_h  \\\n",
       "9  3c4b26  1688691125   VOBL        EDDF  1688722166           2547.0   \n",
       "5  3c4b26  1688982692   EDDF        KMIA  1689015262           1088.0   \n",
       "0  3c4b26  1689202427   KIAD        EDDF  1689228292           1296.0   \n",
       "7  3c4b26  1688891925   EDDF         NaN  1688926536           1363.0   \n",
       "2  3c4b26  1689120355    NaN        EDDF  1689151678              NaN   \n",
       "\n",
       "   dist_frm_orig_v  dist_frm_dest_h  dist_frm_dest_v  \n",
       "9            121.0           2951.0             42.0  \n",
       "5             65.0           4823.0            127.0  \n",
       "0              3.0            942.0             42.0  \n",
       "7             72.0              NaN              NaN  \n",
       "2              NaN           1365.0             10.0  "
      ]
     },
     "execution_count": 50,
     "metadata": {},
     "output_type": "execute_result"
    }
   ],
   "source": [
    "a_crft_df.sample(n=5)"
   ]
  },
  {
   "cell_type": "code",
   "execution_count": 51,
   "metadata": {},
   "outputs": [
    {
     "data": {
      "text/html": [
       "<div>\n",
       "<style scoped>\n",
       "    .dataframe tbody tr th:only-of-type {\n",
       "        vertical-align: middle;\n",
       "    }\n",
       "\n",
       "    .dataframe tbody tr th {\n",
       "        vertical-align: top;\n",
       "    }\n",
       "\n",
       "    .dataframe thead th {\n",
       "        text-align: right;\n",
       "    }\n",
       "</style>\n",
       "<table border=\"1\" class=\"dataframe\">\n",
       "  <thead>\n",
       "    <tr style=\"text-align: right;\">\n",
       "      <th></th>\n",
       "      <th>arrival</th>\n",
       "      <th>destination</th>\n",
       "      <th>origin</th>\n",
       "      <th>departure</th>\n",
       "      <th>dist_frm_orig_h</th>\n",
       "      <th>dist_frm_orig_v</th>\n",
       "      <th>dist_frm_dest_h</th>\n",
       "      <th>dist_frm_dest_v</th>\n",
       "    </tr>\n",
       "  </thead>\n",
       "  <tbody>\n",
       "    <tr>\n",
       "      <th>3865</th>\n",
       "      <td>1688791883</td>\n",
       "      <td>EDDF</td>\n",
       "      <td>NaN</td>\n",
       "      <td>1688776945</td>\n",
       "      <td>NaN</td>\n",
       "      <td>NaN</td>\n",
       "      <td>2345</td>\n",
       "      <td>34</td>\n",
       "    </tr>\n",
       "    <tr>\n",
       "      <th>1490</th>\n",
       "      <td>1689084077</td>\n",
       "      <td>EDDF</td>\n",
       "      <td>LOWG</td>\n",
       "      <td>1689080491</td>\n",
       "      <td>852.0</td>\n",
       "      <td>27.0</td>\n",
       "      <td>1780</td>\n",
       "      <td>18</td>\n",
       "    </tr>\n",
       "    <tr>\n",
       "      <th>2269</th>\n",
       "      <td>1688985261</td>\n",
       "      <td>EDDF</td>\n",
       "      <td>LPPT</td>\n",
       "      <td>1688976312</td>\n",
       "      <td>2368.0</td>\n",
       "      <td>244.0</td>\n",
       "      <td>2905</td>\n",
       "      <td>49</td>\n",
       "    </tr>\n",
       "    <tr>\n",
       "      <th>1900</th>\n",
       "      <td>1689045495</td>\n",
       "      <td>EDDF</td>\n",
       "      <td>FACT</td>\n",
       "      <td>1689004427</td>\n",
       "      <td>1904.0</td>\n",
       "      <td>183.0</td>\n",
       "      <td>999</td>\n",
       "      <td>34</td>\n",
       "    </tr>\n",
       "    <tr>\n",
       "      <th>2457</th>\n",
       "      <td>1688970589</td>\n",
       "      <td>EDDF</td>\n",
       "      <td>NaN</td>\n",
       "      <td>1688947203</td>\n",
       "      <td>NaN</td>\n",
       "      <td>NaN</td>\n",
       "      <td>3460</td>\n",
       "      <td>88</td>\n",
       "    </tr>\n",
       "  </tbody>\n",
       "</table>\n",
       "</div>"
      ],
      "text/plain": [
       "         arrival destination origin   departure  dist_frm_orig_h  \\\n",
       "3865  1688791883        EDDF    NaN  1688776945              NaN   \n",
       "1490  1689084077        EDDF   LOWG  1689080491            852.0   \n",
       "2269  1688985261        EDDF   LPPT  1688976312           2368.0   \n",
       "1900  1689045495        EDDF   FACT  1689004427           1904.0   \n",
       "2457  1688970589        EDDF    NaN  1688947203              NaN   \n",
       "\n",
       "      dist_frm_orig_v  dist_frm_dest_h  dist_frm_dest_v  \n",
       "3865              NaN             2345               34  \n",
       "1490             27.0             1780               18  \n",
       "2269            244.0             2905               49  \n",
       "1900            183.0              999               34  \n",
       "2457              NaN             3460               88  "
      ]
     },
     "execution_count": 51,
     "metadata": {},
     "output_type": "execute_result"
    }
   ],
   "source": [
    "arv_df.sample(n=5)"
   ]
  },
  {
   "cell_type": "code",
   "execution_count": 52,
   "metadata": {},
   "outputs": [
    {
     "name": "stdout",
     "output_type": "stream",
     "text": [
      "<class 'pandas.core.frame.DataFrame'>\n",
      "RangeIndex: 4587 entries, 0 to 4586\n",
      "Data columns (total 8 columns):\n",
      " #   Column           Non-Null Count  Dtype  \n",
      "---  ------           --------------  -----  \n",
      " 0   arrival          4587 non-null   int64  \n",
      " 1   destination      4587 non-null   object \n",
      " 2   origin           3538 non-null   object \n",
      " 3   departure        4587 non-null   int64  \n",
      " 4   dist_frm_orig_h  3538 non-null   float64\n",
      " 5   dist_frm_orig_v  3538 non-null   float64\n",
      " 6   dist_frm_dest_h  4587 non-null   int64  \n",
      " 7   dist_frm_dest_v  4587 non-null   int64  \n",
      "dtypes: float64(2), int64(4), object(2)\n",
      "memory usage: 286.8+ KB\n"
     ]
    }
   ],
   "source": [
    "arv_df.info()"
   ]
  },
  {
   "cell_type": "code",
   "execution_count": 53,
   "metadata": {},
   "outputs": [
    {
     "data": {
      "text/plain": [
       "arrival               0\n",
       "destination           0\n",
       "origin             1049\n",
       "departure             0\n",
       "dist_frm_orig_h    1049\n",
       "dist_frm_orig_v    1049\n",
       "dist_frm_dest_h       0\n",
       "dist_frm_dest_v       0\n",
       "dtype: int64"
      ]
     },
     "execution_count": 53,
     "metadata": {},
     "output_type": "execute_result"
    }
   ],
   "source": [
    "arv_df.isnull().sum()"
   ]
  },
  {
   "cell_type": "code",
   "execution_count": 54,
   "metadata": {},
   "outputs": [
    {
     "data": {
      "text/plain": [
       "arrival               0\n",
       "destination           0\n",
       "origin             1049\n",
       "departure             0\n",
       "dist_frm_orig_h    1049\n",
       "dist_frm_orig_v    1049\n",
       "dist_frm_dest_h       0\n",
       "dist_frm_dest_v       0\n",
       "dtype: int64"
      ]
     },
     "execution_count": 54,
     "metadata": {},
     "output_type": "execute_result"
    }
   ],
   "source": [
    "arv_df.isna().sum()"
   ]
  },
  {
   "cell_type": "code",
   "execution_count": 55,
   "metadata": {},
   "outputs": [],
   "source": [
    "arv_df = arv_df.dropna(how=\"any\")"
   ]
  },
  {
   "cell_type": "code",
   "execution_count": 56,
   "metadata": {},
   "outputs": [
    {
     "data": {
      "text/plain": [
       "arrival            0\n",
       "destination        0\n",
       "origin             0\n",
       "departure          0\n",
       "dist_frm_orig_h    0\n",
       "dist_frm_orig_v    0\n",
       "dist_frm_dest_h    0\n",
       "dist_frm_dest_v    0\n",
       "dtype: int64"
      ]
     },
     "execution_count": 56,
     "metadata": {},
     "output_type": "execute_result"
    }
   ],
   "source": [
    "arv_df.isna().sum()"
   ]
  },
  {
   "cell_type": "code",
   "execution_count": 57,
   "metadata": {},
   "outputs": [
    {
     "name": "stdout",
     "output_type": "stream",
     "text": [
      "<class 'pandas.core.frame.DataFrame'>\n",
      "Index: 3538 entries, 0 to 4586\n",
      "Data columns (total 8 columns):\n",
      " #   Column           Non-Null Count  Dtype  \n",
      "---  ------           --------------  -----  \n",
      " 0   arrival          3538 non-null   int64  \n",
      " 1   destination      3538 non-null   object \n",
      " 2   origin           3538 non-null   object \n",
      " 3   departure        3538 non-null   int64  \n",
      " 4   dist_frm_orig_h  3538 non-null   float64\n",
      " 5   dist_frm_orig_v  3538 non-null   float64\n",
      " 6   dist_frm_dest_h  3538 non-null   int64  \n",
      " 7   dist_frm_dest_v  3538 non-null   int64  \n",
      "dtypes: float64(2), int64(4), object(2)\n",
      "memory usage: 248.8+ KB\n"
     ]
    }
   ],
   "source": [
    "arv_df.info()"
   ]
  },
  {
   "cell_type": "code",
   "execution_count": 58,
   "metadata": {},
   "outputs": [
    {
     "data": {
      "text/plain": [
       "<Axes: >"
      ]
     },
     "execution_count": 58,
     "metadata": {},
     "output_type": "execute_result"
    },
    {
     "data": {
      "image/png": "[encoded data removed]",
      "text/plain": [
       "<Figure size 640x480 with 1 Axes>"
      ]
     },
     "metadata": {},
     "output_type": "display_data"
    }
   ],
   "source": [
    "arv_df[[\"dist_frm_orig_v\", \"dist_frm_orig_h\"]].plot()"
   ]
  },
  {
   "cell_type": "code",
   "execution_count": 59,
   "metadata": {},
   "outputs": [
    {
     "data": {
      "text/html": [
       "<div>\n",
       "<style scoped>\n",
       "    .dataframe tbody tr th:only-of-type {\n",
       "        vertical-align: middle;\n",
       "    }\n",
       "\n",
       "    .dataframe tbody tr th {\n",
       "        vertical-align: top;\n",
       "    }\n",
       "\n",
       "    .dataframe thead th {\n",
       "        text-align: right;\n",
       "    }\n",
       "</style>\n",
       "<table border=\"1\" class=\"dataframe\">\n",
       "  <thead>\n",
       "    <tr style=\"text-align: right;\">\n",
       "      <th></th>\n",
       "      <th>arrival</th>\n",
       "      <th>destination</th>\n",
       "      <th>origin</th>\n",
       "      <th>departure</th>\n",
       "      <th>dist_frm_orig_h</th>\n",
       "      <th>dist_frm_orig_v</th>\n",
       "      <th>dist_frm_dest_h</th>\n",
       "      <th>dist_frm_dest_v</th>\n",
       "    </tr>\n",
       "  </thead>\n",
       "  <tbody>\n",
       "    <tr>\n",
       "      <th>2583</th>\n",
       "      <td>1688934706</td>\n",
       "      <td>EDDF</td>\n",
       "      <td>ESGG</td>\n",
       "      <td>1688929525</td>\n",
       "      <td>1876.0</td>\n",
       "      <td>158.0</td>\n",
       "      <td>3191</td>\n",
       "      <td>3</td>\n",
       "    </tr>\n",
       "    <tr>\n",
       "      <th>4312</th>\n",
       "      <td>1688723944</td>\n",
       "      <td>EDDF</td>\n",
       "      <td>EGSS</td>\n",
       "      <td>1688720301</td>\n",
       "      <td>78.0</td>\n",
       "      <td>29.0</td>\n",
       "      <td>2925</td>\n",
       "      <td>34</td>\n",
       "    </tr>\n",
       "    <tr>\n",
       "      <th>3044</th>\n",
       "      <td>1688891303</td>\n",
       "      <td>EDDF</td>\n",
       "      <td>LIPQ</td>\n",
       "      <td>1688887418</td>\n",
       "      <td>347.0</td>\n",
       "      <td>57.0</td>\n",
       "      <td>894</td>\n",
       "      <td>65</td>\n",
       "    </tr>\n",
       "    <tr>\n",
       "      <th>2683</th>\n",
       "      <td>1688925793</td>\n",
       "      <td>EDDF</td>\n",
       "      <td>EDDV</td>\n",
       "      <td>1688923429</td>\n",
       "      <td>902.0</td>\n",
       "      <td>25.0</td>\n",
       "      <td>2368</td>\n",
       "      <td>27</td>\n",
       "    </tr>\n",
       "    <tr>\n",
       "      <th>747</th>\n",
       "      <td>1689185338</td>\n",
       "      <td>EDDF</td>\n",
       "      <td>LDZL</td>\n",
       "      <td>1689180631</td>\n",
       "      <td>11111.0</td>\n",
       "      <td>1577.0</td>\n",
       "      <td>1079</td>\n",
       "      <td>11</td>\n",
       "    </tr>\n",
       "  </tbody>\n",
       "</table>\n",
       "</div>"
      ],
      "text/plain": [
       "         arrival destination origin   departure  dist_frm_orig_h  \\\n",
       "2583  1688934706        EDDF   ESGG  1688929525           1876.0   \n",
       "4312  1688723944        EDDF   EGSS  1688720301             78.0   \n",
       "3044  1688891303        EDDF   LIPQ  1688887418            347.0   \n",
       "2683  1688925793        EDDF   EDDV  1688923429            902.0   \n",
       "747   1689185338        EDDF   LDZL  1689180631          11111.0   \n",
       "\n",
       "      dist_frm_orig_v  dist_frm_dest_h  dist_frm_dest_v  \n",
       "2583            158.0             3191                3  \n",
       "4312             29.0             2925               34  \n",
       "3044             57.0              894               65  \n",
       "2683             25.0             2368               27  \n",
       "747            1577.0             1079               11  "
      ]
     },
     "execution_count": 59,
     "metadata": {},
     "output_type": "execute_result"
    }
   ],
   "source": [
    "arv_df.sample(n=5)"
   ]
  },
  {
   "cell_type": "markdown",
   "metadata": {},
   "source": []
  },
  {
   "cell_type": "code",
   "execution_count": null,
   "metadata": {},
   "outputs": [],
   "source": []
  }
 ],
 "metadata": {
  "kernelspec": {
   "display_name": "Python 3",
   "language": "python",
   "name": "python3"
  },
  "language_info": {
   "codemirror_mode": {
    "name": "ipython",
    "version": 3
   },
   "file_extension": ".py",
   "mimetype": "text/x-python",
   "name": "python",
   "nbconvert_exporter": "python",
   "pygments_lexer": "ipython3",
   "version": "3.12.4"
  }
 },
 "nbformat": 4,
 "nbformat_minor": 2
}

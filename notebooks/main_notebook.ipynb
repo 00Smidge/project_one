{
 "cells": [
  {
   "cell_type": "code",
   "execution_count": 1,
   "metadata": {},
   "outputs": [],
   "source": [
    "# Importing Libraries\n",
    "\n",
    "import pandas as pd\n",
    "import matplotlib.pyplot as plt\n",
    "import numpy as np\n",
    "\n",
    "# something needed for heat maps..... 🤔\n",
    "import seaborn as sns\n",
    "import missingno as msno"
   ]
  },
  {
   "cell_type": "code",
   "execution_count": 2,
   "metadata": {},
   "outputs": [],
   "source": [
    "# Suppress Warning DO NOT LEAVE THIS ON ALL THE TIME CAN MUTE ERRORS!!\n",
    "import warnings\n",
    "\n",
    "# Suppress specific warnings\n",
    "warnings.simplefilter(action=\"ignore\", category=UserWarning)"
   ]
  },
  {
   "cell_type": "code",
   "execution_count": null,
   "metadata": {},
   "outputs": [],
   "source": [
    "# Read csv and create DataFrame\n",
    "data_csv = pd.read_csv(\"../data/flights.csv\")\n",
    "df = pd.DataFrame(data_csv).set_index(\"id\")"
   ]
  },
  {
   "cell_type": "code",
   "execution_count": null,
   "metadata": {},
   "outputs": [],
   "source": [
    "# Create column descriptions\n",
    "\"\"\"\n",
    "  \n",
    "\"\"\"\n",
    "columns_legend = {\n",
    "    \"id\": \"Unique identifier for each flight record\",\n",
    "    \"year\": \"Year the flight was recorded (Gregorian calendar)\",\n",
    "    \"month\": \"Numerical value of the month the flight occurred (1-12)\",\n",
    "    \"day\": \"Day of the month when the flight occurred (1-31)\",\n",
    "    \"dep_time\": \"Actual departure time (24-hour format, hhmm)\",\n",
    "    \"sched_dep_time\": \"Scheduled departure time (24-hour format, hhmm)\",\n",
    "    \"dep_delay\": \"Minutes difference between scheduled and actual departure (positive for delay, negative for early departure)\",\n",
    "    \"arr_time\": \"Actual arrival time (24-hour format, hhmm)\",\n",
    "    \"sched_arr_time\": \"Scheduled arrival time (24-hour format, hhmm)\",\n",
    "    \"arr_delay\": \"Minutes difference between scheduled and actual arrival (positive for delay, negative for early arrival)\",\n",
    "    \"carrier\": \"Two-letter airline carrier code (e.g., AA for American Airlines)\",\n",
    "    \"flight\": \"Flight number assigned to the flight\",\n",
    "    \"tailnum\": \"Unique aircraft tail number\",\n",
    "    \"origin\": \"Three-letter code of the departure airport\",\n",
    "    \"dest\": \"Three-letter code of the destination airport\",\n",
    "    \"air_time\": \"Total time in the air, in minutes (excludes ground time)\",\n",
    "    \"distance\": \"Distance traveled from origin to destination, in miles\",\n",
    "    \"hour\": \"Hour of scheduled departure time (24-hour format)\",\n",
    "    \"minute\": \"Minute of scheduled departure time\",\n",
    "    \"time_hour\": \"Full timestamp for scheduled departure (yyyy-mm-dd hh:mm:ss, 24-hour format)\",\n",
    "    \"name\": \"Full name of the airline carrier\",\n",
    "}\n",
    "\n",
    "# Display legend as dataframe\n",
    "df_cl = pd.DataFrame(\n",
    "    list(columns_legend.items()), columns=[\"Column Name\", \"Description\"]\n",
    ")\n",
    "df_cl = df_cl.style.set_properties(**{\"text-align\": \"left\"})\n",
    "df_cl"
   ]
  },
  {
   "cell_type": "code",
   "execution_count": 5,
   "metadata": {},
   "outputs": [],
   "source": [
    "# Give columns_legend to df as attributes\n",
    "df.attrs = columns_legend"
   ]
  },
  {
   "cell_type": "markdown",
   "metadata": {},
   "source": [
    "## DataFrame Exploration\n",
    "- Summarize & Visualize Data\n",
    "- Identify Patterns\n",
    "- Find Relationships\n",
    "- Note Potential Anomalies\n",
    "\n",
    "## Exploration Scope\n",
    "We want to know two things:\n",
    "- which airlines have the max/min delays\n",
    "- which airport have the max/min delays\n"
   ]
  },
  {
   "cell_type": "code",
   "execution_count": null,
   "metadata": {},
   "outputs": [],
   "source": [
    "# Examine df\n",
    "df.attrs"
   ]
  },
  {
   "cell_type": "code",
   "execution_count": null,
   "metadata": {},
   "outputs": [],
   "source": [
    "df.info()"
   ]
  },
  {
   "cell_type": "markdown",
   "metadata": {},
   "source": [
    "### Insights from df.info()\n",
    "\n",
    "Right away we can see that these columns have missing data.\n",
    "This was most likely cause by canceled flights, error in data entry, or a just a simple reporting issue\n",
    "\n",
    "### Follow up Query\n",
    "\n",
    "What (if any) patterns are there in the missing data? Such as certain airline, specific times of year, weather patterns, ect."
   ]
  },
  {
   "cell_type": "code",
   "execution_count": null,
   "metadata": {},
   "outputs": [],
   "source": [
    "df.isnull().sum()"
   ]
  },
  {
   "cell_type": "code",
   "execution_count": null,
   "metadata": {},
   "outputs": [],
   "source": [
    "df.isnull().corr()"
   ]
  },
  {
   "cell_type": "code",
   "execution_count": null,
   "metadata": {},
   "outputs": [],
   "source": [
    "\"\"\"\n",
    "  This is for fun.\n",
    "  Try and create a heat map to visualize missing data patterns\n",
    "\"\"\"\n",
    "\n",
    "sns.heatmap(df.isnull())\n",
    "plt.show()"
   ]
  },
  {
   "cell_type": "code",
   "execution_count": null,
   "metadata": {},
   "outputs": [],
   "source": [
    "msno.matrix(df)\n",
    "msno.heatmap(df)"
   ]
  },
  {
   "cell_type": "code",
   "execution_count": 12,
   "metadata": {},
   "outputs": [],
   "source": [
    "df = df.dropna(how=\"any\")"
   ]
  },
  {
   "cell_type": "code",
   "execution_count": null,
   "metadata": {},
   "outputs": [],
   "source": [
    "df.isnull().sum()"
   ]
  },
  {
   "cell_type": "code",
   "execution_count": null,
   "metadata": {},
   "outputs": [],
   "source": [
    "df.info()"
   ]
  },
  {
   "cell_type": "code",
   "execution_count": null,
   "metadata": {},
   "outputs": [],
   "source": [
    "df.sample(n=5)"
   ]
  },
  {
   "cell_type": "markdown",
   "metadata": {},
   "source": [
    "#### Examine data description\n",
    "Isolate relevant columns and study their deviations\n",
    "\n",
    "What are we trying to isolate?\n",
    "\t- \n",
    "What questions are we trying to answer?"
   ]
  },
  {
   "cell_type": "code",
   "execution_count": null,
   "metadata": {},
   "outputs": [],
   "source": [
    "\"\"\"\n",
    "  Summarize dataframe.\n",
    "  \n",
    "  Not all columns need to or can be summarized. Look\n",
    "  for columns that can be used to gain better insight\n",
    "  into flight delays. Columns not specifically used\n",
    "  for delay tracking may help gain greater insights.\n",
    "\"\"\"\n",
    "\n",
    "df[\n",
    "    [\"dep_time\", \"dep_delay\", \"arr_time\", \"arr_delay\", \"air_time\", \"distance\"]\n",
    "].describe().T"
   ]
  },
  {
   "cell_type": "markdown",
   "metadata": {},
   "source": [
    "#### What does this tell us?\n",
    "- Average departure delay: 12 minutes\n",
    "- Average arrival delay: 6 minutes\n",
    "- Average airtime: 150 minutes\n",
    "- Average distance: 1048 miles\n",
    "\n",
    "##### follow up questions?\n",
    "- What do these numbers tell us?\n",
    "- What can we learn from summarizing data based on airlines, aircraft or specific craft number\n",
    "Note: Most data analysis is best done with numerical values. "
   ]
  },
  {
   "cell_type": "markdown",
   "metadata": {},
   "source": [
    "#### Convert dep_time & sched_dep_time to 24H timestamp"
   ]
  },
  {
   "cell_type": "code",
   "execution_count": 17,
   "metadata": {},
   "outputs": [],
   "source": [
    "\"\"\"\n",
    "  It may be best to create new columns containing the seconds-since-midnight.\n",
    "  This will let us numerically evaluate the data. As well as create pandas\n",
    "  datetimestamps for other evaluation methods\n",
    "\"\"\"\n",
    "\n",
    "dfc = df.copy()\n",
    "\n",
    "# clean & normalize time columns\n",
    "dfc.dep_time = dfc.dep_time.astype(int)  # whole int for minutes\n",
    "dfc.dep_time = dfc.dep_time.astype(str).str.zfill(\n",
    "    4\n",
    ")  # zfill(4) is to ensure that all timestamps have 4 digits\n",
    "\n",
    "dfc.sched_dep_time = dfc.sched_dep_time.astype(str).str.zfill(4)\n",
    "\n",
    "dfc.dep_delay = dfc.dep_delay.astype(int)\n",
    "\n",
    "dfc.arr_time = dfc.arr_time.astype(int)\n",
    "dfc.arr_time = dfc.arr_time.astype(str).str.zfill(4)\n",
    "\n",
    "dfc.sched_arr_time = dfc.sched_arr_time.astype(str).str.zfill(4)\n",
    "\n",
    "dfc.arr_delay = dfc.arr_delay.astype(int)\n",
    "\n",
    "dfc.air_time = dfc.air_time.astype(int)\n",
    "\n",
    "# Convert columns to datetime\n",
    "dfc.dep_time = pd.to_datetime(dfc.dep_time, format=\"%H%M%S\").dt.strftime(\"%H:%M:%S\")\n",
    "\n",
    "dfc.sched_dep_time = pd.to_datetime(dfc.sched_dep_time, format=\"%H%M%S\").dt.strftime(\n",
    "    \"%H:%M:%S\"\n",
    ")\n",
    "\n",
    "dfc.arr_time = pd.to_datetime(dfc.arr_time, format=\"%H%M%S\").dt.strftime(\"%H:%M:%S\")\n",
    "dfc.sched_arr_time = pd.to_datetime(dfc.sched_arr_time, format=\"%H%M%S\").dt.strftime(\n",
    "    \"%H:%M:%S\"\n",
    ")\n",
    "\n",
    "# Create minutes columns\n",
    "dfc.insert(\n",
    "    4,\n",
    "    \"dt_min\",\n",
    "    pd.to_datetime(dfc.dep_time).dt.hour * 60 + pd.to_datetime(dfc.dep_time).dt.minute,\n",
    ")  # this is to keep the original str formate in the dfc.dep_time column\n",
    "\n",
    "dfc.insert(\n",
    "    6,\n",
    "    \"sdt_min\",\n",
    "    pd.to_datetime(dfc.sched_dep_time).dt.hour * 60\n",
    "    + pd.to_datetime(dfc.sched_dep_time).dt.minute,\n",
    ")\n",
    "\n",
    "dfc.insert(\n",
    "    8,\n",
    "    \"rt_min\",\n",
    "    pd.to_datetime(dfc.arr_time).dt.hour * 60 + pd.to_datetime(dfc.arr_time).dt.minute,\n",
    ")  # this is to keep the original str formate in the dfc.dep_time column\n",
    "\n",
    "dfc.insert(\n",
    "    10,\n",
    "    \"srt_min\",\n",
    "    pd.to_datetime(dfc.sched_arr_time).dt.hour * 60\n",
    "    + pd.to_datetime(dfc.sched_arr_time).dt.minute,\n",
    ")"
   ]
  },
  {
   "cell_type": "code",
   "execution_count": null,
   "metadata": {},
   "outputs": [],
   "source": [
    "dfc.sample(n=5)"
   ]
  },
  {
   "cell_type": "code",
   "execution_count": null,
   "metadata": {},
   "outputs": [],
   "source": [
    "# x = dfc.sdt_min[::5000]\n",
    "# y = dfc.dt_min[::5000]\n",
    "\n",
    "# plt.title = \"Departure Discrepancies\"\n",
    "# plt.xlabel = \"Departure Time\"\n",
    "# plt.ylabel = \"Scheduled Departure Time\"\n",
    "\n",
    "# plt.figure(figsize=(18, 12)).tight_layout()\n",
    "# plt.plot(x, y)\n",
    "\n",
    "# plt.show()\n",
    "dfc.plot(\n",
    "    kind=\"scatter\",\n",
    "    x=\"dt_min\",\n",
    "    y=\"sdt_min\",\n",
    "    c=\"sdt_min\",\n",
    "    cmap=\"plasma\",\n",
    "    xlabel=\"departure time\",\n",
    "    ylabel=\"scheduled departure time\",\n",
    ")\n",
    "ticks = np.arange(0, 1440, 60)\n",
    "t_labels = range(24)\n",
    "plt.xticks(ticks, t_labels)\n",
    "plt.yticks(ticks, t_labels)\n",
    "plt.tight_layout()"
   ]
  },
  {
   "cell_type": "code",
   "execution_count": null,
   "metadata": {},
   "outputs": [],
   "source": [
    "dfc.sample(n=5)"
   ]
  },
  {
   "cell_type": "code",
   "execution_count": 21,
   "metadata": {},
   "outputs": [],
   "source": [
    "dfc.dep_time = pd.to_datetime(dfc.dep_time)\n",
    "dfc.sched_dep_time = pd.to_datetime(dfc.sched_dep_time)\n",
    "\n",
    "dfc[\"dep_in_min\"] = dfc.dep_time.dt.hour * 60 + dfc.dep_time.dt.minute\n",
    "dfc[\"sched_dep_in_min\"] = dfc.sched_dep_time.dt.hour * 60 + dfc.sched_dep_time.dt.minute"
   ]
  },
  {
   "cell_type": "code",
   "execution_count": null,
   "metadata": {},
   "outputs": [],
   "source": [
    "y1 = dfc.dep_time[::500]\n",
    "\n",
    "y2 = dfc.sched_dep_time[::500]\n",
    "\n",
    "fig, ax1 = plt.subplots()\n",
    "\n",
    "# x-axis 1\n",
    "ax1.scatter(y1, range(len(y1)), color=\"red\", label=\"Actual Departure\")\n",
    "ax1.tick_params(axis=\"y\", labelcolor=\"red\")\n",
    "\n",
    "ax1.set_yticks(range(25))\n",
    "ax1.set_ylabel(\"Hour of day\")\n",
    "\n",
    "# x-axis 2\n",
    "ax2 = ax1.twiny()\n",
    "ax2.scatter(y2, range(len(y2)), color=\"blue\", label=\"Scheduled Departure\")\n",
    "ax2.tick_params(axis=\"x\", labelcolor=\"blue\")\n",
    "\n",
    "fig.tight_layout()\n",
    "plt.show()"
   ]
  },
  {
   "cell_type": "code",
   "execution_count": null,
   "metadata": {},
   "outputs": [],
   "source": []
  }
 ],
 "metadata": {
  "kernelspec": {
   "display_name": "Python 3",
   "language": "python",
   "name": "python3"
  },
  "language_info": {
   "codemirror_mode": {
    "name": "ipython",
    "version": 3
   },
   "file_extension": ".py",
   "mimetype": "text/x-python",
   "name": "python",
   "nbconvert_exporter": "python",
   "pygments_lexer": "ipython3",
   "version": "3.12.4"
  }
 },
 "nbformat": 4,
 "nbformat_minor": 2
}
